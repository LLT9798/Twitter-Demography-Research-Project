{
  "nbformat": 4,
  "nbformat_minor": 0,
  "metadata": {
    "kernelspec": {
      "display_name": "Python 3",
      "language": "python",
      "name": "python3"
    },
    "language_info": {
      "codemirror_mode": {
        "name": "ipython",
        "version": 3
      },
      "file_extension": ".py",
      "mimetype": "text/x-python",
      "name": "python",
      "nbconvert_exporter": "python",
      "pygments_lexer": "ipython3",
      "version": "3.7.3"
    },
    "colab": {
      "name": "Liam_TwitterApp.ipynb",
      "provenance": [],
      "include_colab_link": true
    }
  },
  "cells": [
    {
      "cell_type": "markdown",
      "metadata": {
        "id": "view-in-github",
        "colab_type": "text"
      },
      "source": [
        "<a href=\"https://colab.research.google.com/github/LLT9798/Twitter-Demography-Research-Project/blob/master/Liam_TwitterApp.ipynb\" target=\"_parent\"><img src=\"https://colab.research.google.com/assets/colab-badge.svg\" alt=\"Open In Colab\"/></a>"
      ]
    },
    {
      "cell_type": "code",
      "metadata": {
        "id": "QoQFiNioE5R9",
        "colab_type": "code",
        "colab": {}
      },
      "source": [
        "from tweepy import API\n",
        "from tweepy.streaming import StreamListener\n",
        "from tweepy import OAuthHandler\n",
        "from tweepy import Stream\n",
        "\n",
        "\n",
        "import json\n",
        "import sys\n",
        "import pandas as pd"
      ],
      "execution_count": 0,
      "outputs": []
    },
    {
      "cell_type": "code",
      "metadata": {
        "id": "VGDKRiUdE5SM",
        "colab_type": "code",
        "colab": {}
      },
      "source": [
        "CONSUMER_KEY = ''\n",
        "CONSUMER_SECRET = ''\n",
        "\n",
        "ACCESS_TOKEN = ''\n",
        "ACCESS_TOKEN_SECRET = ''"
      ],
      "execution_count": 0,
      "outputs": []
    },
    {
      "cell_type": "code",
      "metadata": {
        "id": "sD3-_knZE5SV",
        "colab_type": "code",
        "colab": {}
      },
      "source": [
        "auth = OAuthHandler(CONSUMER_KEY, CONSUMER_SECRET)\n",
        "auth.set_access_token(ACCESS_TOKEN, ACCESS_TOKEN_SECRET)\n",
        "api = API(auth, wait_on_rate_limit=True,\n",
        "          wait_on_rate_limit_notify=True)"
      ],
      "execution_count": 0,
      "outputs": []
    },
    {
      "cell_type": "code",
      "metadata": {
        "id": "By6D5VDUE5Sf",
        "colab_type": "code",
        "colab": {}
      },
      "source": [
        "api = API(auth, wait_on_rate_limit=True,\n",
        "          wait_on_rate_limit_notify=True)\n",
        "\n",
        "class Listener(StreamListener):\n",
        "    def __init__(self):\n",
        "        super(Listener,self).__init__()\n",
        "        \n",
        "        self.output_list = [ ]\n",
        "    def on_status(self, status):\n",
        "        #exclude retweet\n",
        "        if (not status.retweeted) and ('RT @' not in status.text):\n",
        "            self.output_list.append(status)\n",
        "        else:\n",
        "            pass\n",
        "     \n",
        "\n",
        "    def on_error(self, status_code):\n",
        "        print(status_code)\n",
        "        return False\n"
      ],
      "execution_count": 0,
      "outputs": []
    },
    {
      "cell_type": "code",
      "metadata": {
        "id": "IEOwUA88E5Sq",
        "colab_type": "code",
        "colab": {}
      },
      "source": [
        ""
      ],
      "execution_count": 0,
      "outputs": []
    },
    {
      "cell_type": "code",
      "metadata": {
        "id": "-V5Aj4izE5Su",
        "colab_type": "code",
        "colab": {}
      },
      "source": [
        "#output = open('stream_output.txt', 'w')\n",
        "\n",
        "l = Listener()\n"
      ],
      "execution_count": 0,
      "outputs": []
    },
    {
      "cell_type": "code",
      "metadata": {
        "scrolled": true,
        "id": "AGIaEhQXE5S1",
        "colab_type": "code",
        "colab": {},
        "outputId": "243d87d4-1672-4155-ba0d-6401c9bf2310"
      },
      "source": [
        "stream = Stream(auth=api.auth, listener=l)\n",
        "\n",
        "try:\n",
        "    \n",
        "    print('Start streaming.')\n",
        "    #stream.sample(languages=['en'])\n",
        "    \n",
        "    \n",
        "    #tracking target  SF - LA -122.75,36.8,-121.75,37.8, -118,34,-117,33\n",
        "    #37.8,-74,40,-73,41\n",
        "    stream.filter(#locations = [-122.75,36.8,-121.75,37.8, -118,33,-117,34],\n",
        "                  track = ['movie', 'new movie', 'netflix', 'hulu', 'youtube', 'hbo'],\n",
        "                  #is_async=True,\n",
        "                  languages=['en'])\n",
        "     \n",
        "\n",
        "except KeyboardInterrupt:\n",
        "    print(\"Stopped.\")\n",
        "finally:\n",
        "    print('Done.')\n",
        "    stream.disconnect()"
      ],
      "execution_count": 0,
      "outputs": [
        {
          "output_type": "stream",
          "text": [
            "Start streaming.\n",
            "Stopped.\n",
            "Done.\n"
          ],
          "name": "stdout"
        }
      ]
    },
    {
      "cell_type": "code",
      "metadata": {
        "id": "GTEGnXUwE5S8",
        "colab_type": "code",
        "colab": {},
        "outputId": "f79335c4-8045-4182-de64-8f0a5b47c73a"
      },
      "source": [
        "type(l.output_list[1])"
      ],
      "execution_count": 0,
      "outputs": [
        {
          "output_type": "execute_result",
          "data": {
            "text/plain": [
              "tweepy.models.Status"
            ]
          },
          "metadata": {
            "tags": []
          },
          "execution_count": 7
        }
      ]
    },
    {
      "cell_type": "code",
      "metadata": {
        "id": "3LgeT4PPE5TM",
        "colab_type": "code",
        "colab": {},
        "outputId": "64f58f1d-3f4f-4009-ec28-f424e394c85b"
      },
      "source": [
        "l.output_list[0]._json.keys()"
      ],
      "execution_count": 0,
      "outputs": [
        {
          "output_type": "execute_result",
          "data": {
            "text/plain": [
              "dict_keys(['created_at', 'id', 'id_str', 'text', 'display_text_range', 'source', 'truncated', 'in_reply_to_status_id', 'in_reply_to_status_id_str', 'in_reply_to_user_id', 'in_reply_to_user_id_str', 'in_reply_to_screen_name', 'user', 'geo', 'coordinates', 'place', 'contributors', 'is_quote_status', 'quote_count', 'reply_count', 'retweet_count', 'favorite_count', 'entities', 'favorited', 'retweeted', 'filter_level', 'lang', 'timestamp_ms'])"
            ]
          },
          "metadata": {
            "tags": []
          },
          "execution_count": 9
        }
      ]
    },
    {
      "cell_type": "code",
      "metadata": {
        "scrolled": false,
        "id": "un6-PYy_E5TQ",
        "colab_type": "code",
        "colab": {},
        "outputId": "326df920-0817-4458-e92c-44f2b739c4fc"
      },
      "source": [
        "len(l.output_list)"
      ],
      "execution_count": 0,
      "outputs": [
        {
          "output_type": "execute_result",
          "data": {
            "text/plain": [
              "185198"
            ]
          },
          "metadata": {
            "tags": []
          },
          "execution_count": 10
        }
      ]
    },
    {
      "cell_type": "code",
      "metadata": {
        "id": "WTwFI6b5E5TY",
        "colab_type": "code",
        "colab": {}
      },
      "source": [
        "#convert jon to dataframe\n",
        "\n",
        "dict_ = {'screen_name': [], 'id': [], 'location': [], 'created_at': [], 'text': [], 'favorite_count': [],\n",
        "        'description': [], 'profile_background_color': [], 'profile_link_color': [],\n",
        "        'profile_sidebar_border_color': [], 'profile_sidebar_fill_color': [], 'profile_text_color': []}\n",
        "\n",
        "\n",
        "for i in range(0,len(l.output_list)):\n",
        "    dict_['screen_name'].append(l.output_list[i]._json['user']['screen_name'])\n",
        "    dict_['id'].append(l.output_list[i]._json['user']['id'])\n",
        "    dict_['location'].append(l.output_list[i]._json['user']['location'])\n",
        "    dict_['description'].append(l.output_list[i]._json['user']['description'])\n",
        "    dict_['profile_background_color'].append(l.output_list[i]._json['user']['profile_background_color'])\n",
        "    dict_['profile_link_color'].append(l.output_list[i]._json['user']['profile_link_color'])\n",
        "    dict_['profile_sidebar_border_color'].append(l.output_list[i]._json['user']['profile_sidebar_border_color'])\n",
        "    dict_['profile_sidebar_fill_color'].append(l.output_list[i]._json['user']['profile_sidebar_fill_color'])\n",
        "    dict_['profile_text_color'].append(l.output_list[i]._json['user']['profile_text_color'])\n",
        "    \n",
        "    \n",
        "    dict_['created_at'].append(l.output_list[i]._json['created_at'])\n",
        "    dict_['text'].append(l.output_list[i]._json['text'])\n",
        "    dict_['favorite_count'].append(l.output_list[i]._json['favorite_count'])\n"
      ],
      "execution_count": 0,
      "outputs": []
    },
    {
      "cell_type": "code",
      "metadata": {
        "scrolled": false,
        "id": "c6JPCIsJE5Tf",
        "colab_type": "code",
        "colab": {}
      },
      "source": [
        "df = pd.DataFrame(dict_)\n",
        "df.sort_values(by='created_at', inplace=True, ascending=False)\n",
        "df.head(5)"
      ],
      "execution_count": 0,
      "outputs": []
    },
    {
      "cell_type": "code",
      "metadata": {
        "id": "Gj6kdlWZE5Tk",
        "colab_type": "code",
        "colab": {}
      },
      "source": [
        "pd.set_option('display.max_colwidth', -1)\n",
        "print(df['text'])\n"
      ],
      "execution_count": 0,
      "outputs": []
    },
    {
      "cell_type": "code",
      "metadata": {
        "id": "UrSOHOSyE5To",
        "colab_type": "code",
        "colab": {}
      },
      "source": [
        "df.to_csv('tweets14.csv')"
      ],
      "execution_count": 0,
      "outputs": []
    },
    {
      "cell_type": "code",
      "metadata": {
        "id": "Xj_AHzQ-E5Tq",
        "colab_type": "code",
        "colab": {}
      },
      "source": [
        ""
      ],
      "execution_count": 0,
      "outputs": []
    },
    {
      "cell_type": "code",
      "metadata": {
        "id": "a-4-ZfNRE5Tw",
        "colab_type": "code",
        "colab": {}
      },
      "source": [
        ""
      ],
      "execution_count": 0,
      "outputs": []
    }
  ]
}