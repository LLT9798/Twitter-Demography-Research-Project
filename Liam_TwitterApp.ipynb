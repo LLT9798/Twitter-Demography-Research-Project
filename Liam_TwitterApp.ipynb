{
  "nbformat": 4,
  "nbformat_minor": 0,
  "metadata": {
    "kernelspec": {
      "display_name": "Python 3",
      "language": "python",
      "name": "python3"
    },
    "language_info": {
      "codemirror_mode": {
        "name": "ipython",
        "version": 3
      },
      "file_extension": ".py",
      "mimetype": "text/x-python",
      "name": "python",
      "nbconvert_exporter": "python",
      "pygments_lexer": "ipython3",
      "version": "3.7.3"
    },
    "colab": {
      "name": "Copy of Liam_TwitterApp.ipynb",
      "provenance": [],
      "collapsed_sections": [],
      "include_colab_link": true
    }
  },
  "cells": [
    {
      "cell_type": "markdown",
      "metadata": {
        "id": "view-in-github",
        "colab_type": "text"
      },
      "source": [
        "<a href=\"https://colab.research.google.com/github/LLT9798/Twitter_User_Gender_Age_Prediction/blob/master/Liam_TwitterApp.ipynb\" target=\"_parent\"><img src=\"https://colab.research.google.com/assets/colab-badge.svg\" alt=\"Open In Colab\"/></a>"
      ]
    },
    {
      "cell_type": "code",
      "metadata": {
        "id": "QoQFiNioE5R9",
        "colab_type": "code",
        "colab": {}
      },
      "source": [
        "from tweepy import API\n",
        "from tweepy.streaming import StreamListener\n",
        "from tweepy import OAuthHandler\n",
        "from tweepy import Stream\n",
        "import json\n",
        "import sys\n",
        "import pandas as pd"
      ],
      "execution_count": null,
      "outputs": []
    },
    {
      "cell_type": "code",
      "metadata": {
        "id": "VGDKRiUdE5SM",
        "colab_type": "code",
        "colab": {}
      },
      "source": [
        "CONSUMER_KEY = '################'\n",
        "CONSUMER_SECRET = '################'\n",
        "ACCESS_TOKEN = '################'\n",
        "ACCESS_TOKEN_SECRET = '################'\n",
        "\n",
        "auth = OAuthHandler(CONSUMER_KEY, CONSUMER_SECRET)\n",
        "auth.set_access_token(ACCESS_TOKEN, ACCESS_TOKEN_SECRET)\n",
        "api = API(auth, wait_on_rate_limit=True,\n",
        "          wait_on_rate_limit_notify=True)"
      ],
      "execution_count": null,
      "outputs": []
    },
    {
      "cell_type": "code",
      "metadata": {
        "id": "sD3-_knZE5SV",
        "colab_type": "code",
        "colab": {}
      },
      "source": [
        "api = API(auth, wait_on_rate_limit=True,\n",
        "          wait_on_rate_limit_notify=True)\n",
        "\n",
        "class Listener(StreamListener):\n",
        "    def __init__(self):\n",
        "        super(Listener,self).__init__()\n",
        "        self.output_list = [ ]\n",
        "        \n",
        "    def on_status(self, status):\n",
        "        #exclude retweet\n",
        "        if (not status.retweeted) and ('RT @' not in status.text):\n",
        "            self.output_list.append(status)\n",
        "        else:\n",
        "            pass\n",
        "     \n",
        "    def on_error(self, status_code):\n",
        "        print(status_code)\n",
        "        return False"
      ],
      "execution_count": null,
      "outputs": []
    },
    {
      "cell_type": "code",
      "metadata": {
        "id": "By6D5VDUE5Sf",
        "colab_type": "code",
        "colab": {}
      },
      "source": [
        "l = Listener()\n",
        "\n",
        "stream = Stream(auth=api.auth, listener=l)\n",
        "\n",
        "try:\n",
        "    \n",
        "    print('Start streaming.')\n",
        "\n",
        "    stream.filter(track = ['#your keywarods or hashtages here'],\n",
        "                  languages=['en'])\n",
        "     \n",
        "\n",
        "except KeyboardInterrupt:\n",
        "    print(\"Stopped.\")\n",
        "finally:\n",
        "    print('Done.')\n",
        "    stream.disconnect()"
      ],
      "execution_count": null,
      "outputs": []
    },
    {
      "cell_type": "code",
      "metadata": {
        "id": "GTEGnXUwE5S8",
        "colab_type": "code",
        "colab": {},
        "outputId": "f79335c4-8045-4182-de64-8f0a5b47c73a"
      },
      "source": [
        "type(l.output_list[1])"
      ],
      "execution_count": null,
      "outputs": [
        {
          "output_type": "execute_result",
          "data": {
            "text/plain": [
              "tweepy.models.Status"
            ]
          },
          "metadata": {
            "tags": []
          },
          "execution_count": 7
        }
      ]
    },
    {
      "cell_type": "code",
      "metadata": {
        "scrolled": false,
        "id": "un6-PYy_E5TQ",
        "colab_type": "code",
        "colab": {},
        "outputId": "326df920-0817-4458-e92c-44f2b739c4fc"
      },
      "source": [
        "len(l.output_list)"
      ],
      "execution_count": null,
      "outputs": [
        {
          "output_type": "execute_result",
          "data": {
            "text/plain": [
              "185198"
            ]
          },
          "metadata": {
            "tags": []
          },
          "execution_count": 10
        }
      ]
    },
    {
      "cell_type": "code",
      "metadata": {
        "id": "WTwFI6b5E5TY",
        "colab_type": "code",
        "colab": {}
      },
      "source": [
        "#convert json to dataframe\n",
        "\n",
        "dict_ = {'screen_name': [], 'id': [], 'location': [], 'created_at': [], 'text': [], 'favorite_count': [],\n",
        "        'description': [], 'profile_background_color': [], 'profile_link_color': [],\n",
        "        'profile_sidebar_border_color': [], 'profile_sidebar_fill_color': [], 'profile_text_color': []}\n",
        "\n",
        "\n",
        "for i in range(0,len(l.output_list)):\n",
        "    dict_['screen_name'].append(l.output_list[i]._json['user']['screen_name'])\n",
        "    dict_['id'].append(l.output_list[i]._json['user']['id'])\n",
        "    dict_['location'].append(l.output_list[i]._json['user']['location'])\n",
        "    dict_['description'].append(l.output_list[i]._json['user']['description'])\n",
        "    dict_['profile_background_color'].append(l.output_list[i]._json['user']['profile_background_color'])\n",
        "    dict_['profile_link_color'].append(l.output_list[i]._json['user']['profile_link_color'])\n",
        "    dict_['profile_sidebar_border_color'].append(l.output_list[i]._json['user']['profile_sidebar_border_color'])\n",
        "    dict_['profile_sidebar_fill_color'].append(l.output_list[i]._json['user']['profile_sidebar_fill_color'])\n",
        "    dict_['profile_text_color'].append(l.output_list[i]._json['user']['profile_text_color'])\n",
        "    \n",
        "    \n",
        "    dict_['created_at'].append(l.output_list[i]._json['created_at'])\n",
        "    dict_['text'].append(l.output_list[i]._json['text'])\n",
        "    dict_['favorite_count'].append(l.output_list[i]._json['favorite_count'])"
      ],
      "execution_count": null,
      "outputs": []
    },
    {
      "cell_type": "code",
      "metadata": {
        "scrolled": false,
        "id": "c6JPCIsJE5Tf",
        "colab_type": "code",
        "colab": {}
      },
      "source": [
        "df = pd.DataFrame(dict_)\n",
        "df.sort_values(by='created_at', inplace=True, ascending=False)\n",
        "df.to_csv('tweets14.csv')"
      ],
      "execution_count": null,
      "outputs": []
    }
  ]
}