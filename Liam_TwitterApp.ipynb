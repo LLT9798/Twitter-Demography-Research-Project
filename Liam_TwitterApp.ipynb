{
  "nbformat": 4,
  "nbformat_minor": 0,
  "metadata": {
    "kernelspec": {
      "display_name": "Python 3",
      "language": "python",
      "name": "python3"
    },
    "language_info": {
      "codemirror_mode": {
        "name": "ipython",
        "version": 3
      },
      "file_extension": ".py",
      "mimetype": "text/x-python",
      "name": "python",
      "nbconvert_exporter": "python",
      "pygments_lexer": "ipython3",
      "version": "3.7.3"
    },
    "colab": {
      "name": "Liam_TwitterApp.ipynb",
      "provenance": [],
      "collapsed_sections": []
    }
  },
  "cells": [
    {
      "cell_type": "code",
      "metadata": {
        "id": "hulgrNIv05qS",
        "colab_type": "code",
        "colab": {}
      },
      "source": [
        "from tweepy import API\n",
        "from tweepy.streaming import StreamListener\n",
        "from tweepy import OAuthHandler\n",
        "from tweepy import Stream\n",
        "\n",
        "\n",
        "import json\n",
        "import sys\n",
        "import pandas as pd"
      ],
      "execution_count": 0,
      "outputs": []
    },
    {
      "cell_type": "code",
      "metadata": {
        "id": "3Anjo57i05rr",
        "colab_type": "code",
        "colab": {}
      },
      "source": [
        "ACCESS_TOKEN = '--'\n",
        "ACCESS_TOKEN_SECRET = '--'\n",
        "CONSUMER_KEY = '--'\n",
        "CONSUMER_SECRET = '--'"
      ],
      "execution_count": 0,
      "outputs": []
    },
    {
      "cell_type": "code",
      "metadata": {
        "id": "q_dKn7O705sJ",
        "colab_type": "code",
        "colab": {}
      },
      "source": [
        "auth = OAuthHandler(CONSUMER_KEY, CONSUMER_SECRET)\n",
        "auth.set_access_token(ACCESS_TOKEN, ACCESS_TOKEN_SECRET)\n",
        "api = API(auth, wait_on_rate_limit=True,\n",
        "          wait_on_rate_limit_notify=True)"
      ],
      "execution_count": 0,
      "outputs": []
    },
    {
      "cell_type": "code",
      "metadata": {
        "id": "GhFUutpe05sk",
        "colab_type": "code",
        "colab": {}
      },
      "source": [
        "api = API(auth, wait_on_rate_limit=True,\n",
        "          wait_on_rate_limit_notify=True)\n",
        "\n",
        "class Listener(StreamListener):\n",
        "    def __init__(self):\n",
        "        super(Listener,self).__init__()\n",
        "        self.output_list = [ ]\n",
        "    def on_status(self, status):\n",
        "        self.output_list.append(status)\n",
        "\n",
        "    def on_error(self, status_code):\n",
        "        print(status_code)\n",
        "        return False\n"
      ],
      "execution_count": 0,
      "outputs": []
    },
    {
      "cell_type": "code",
      "metadata": {
        "id": "OjS0FkaD05sx",
        "colab_type": "code",
        "colab": {}
      },
      "source": [
        ""
      ],
      "execution_count": 0,
      "outputs": []
    },
    {
      "cell_type": "code",
      "metadata": {
        "id": "6GQCiusq05s6",
        "colab_type": "code",
        "colab": {}
      },
      "source": [
        "#output = open('stream_output.txt', 'w')\n",
        "\n",
        "l = Listener()\n"
      ],
      "execution_count": 0,
      "outputs": []
    },
    {
      "cell_type": "code",
      "metadata": {
        "scrolled": false,
        "id": "vMCKBgZO05ta",
        "colab_type": "code",
        "colab": {},
        "outputId": "beb99b79-f0be-40ee-c883-c11513508033"
      },
      "source": [
        "stream = Stream(auth=api.auth, listener=l)\n",
        "\n",
        "try:\n",
        "    print('Start streaming.')\n",
        "    stream.sample(languages=['en'])\n",
        "    \n",
        "    \n",
        "    #tracking target  SF - LA 34.059990, -118.372343\n",
        "    stream.filter(locations = [-122.75,36.8,-121.75,37.8,  -118.5,34,-117,33],\n",
        "                  track = ['movies', 'netflix', 'movies to watch'],\n",
        "                  is_async=True)\n",
        "    \n",
        "except KeyboardInterrupt:\n",
        "    print(\"Stopped.\")\n",
        "finally:\n",
        "    print('Done.')\n",
        "    stream.disconnect()"
      ],
      "execution_count": 0,
      "outputs": [
        {
          "output_type": "stream",
          "text": [
            "Start streaming.\n",
            "Stopped.\n",
            "Done.\n"
          ],
          "name": "stdout"
        }
      ]
    },
    {
      "cell_type": "code",
      "metadata": {
        "scrolled": false,
        "id": "wn9R955n05t1",
        "colab_type": "code",
        "colab": {},
        "outputId": "26488283-77fd-4819-f703-485b1b4324c3"
      },
      "source": [
        "len(l.output_list)"
      ],
      "execution_count": 0,
      "outputs": [
        {
          "output_type": "execute_result",
          "data": {
            "text/plain": [
              "26487"
            ]
          },
          "metadata": {
            "tags": []
          },
          "execution_count": 9
        }
      ]
    },
    {
      "cell_type": "code",
      "metadata": {
        "id": "WV7yPir105t6",
        "colab_type": "code",
        "colab": {}
      },
      "source": [
        "#convert jon to dataframe\n",
        "\n",
        "dict_ = {'screen_name': [], 'id': [], 'location': [], 'created_at': [], 'text': [], 'favorite_count': [],\n",
        "        'description': [], 'profile_background_color': [], 'profile_link_color': [],\n",
        "        'profile_sidebar_border_color': [], 'profile_sidebar_fill_color': [], 'profile_text_color': []}\n",
        "\n",
        "\n",
        "for i in range(0,len(l.output_list)):\n",
        "    dict_['screen_name'].append(l.output_list[i]._json['user']['screen_name'])\n",
        "    dict_['id'].append(l.output_list[i]._json['user']['id'])\n",
        "    dict_['location'].append(l.output_list[i]._json['user']['location'])\n",
        "    dict_['description'].append(l.output_list[i]._json['user']['description'])\n",
        "    dict_['profile_background_color'].append(l.output_list[i]._json['user']['profile_background_color'])\n",
        "    dict_['profile_link_color'].append(l.output_list[i]._json['user']['profile_link_color'])\n",
        "    dict_['profile_sidebar_border_color'].append(l.output_list[i]._json['user']['profile_sidebar_border_color'])\n",
        "    dict_['profile_sidebar_fill_color'].append(l.output_list[i]._json['user']['profile_sidebar_fill_color'])\n",
        "    dict_['profile_text_color'].append(l.output_list[i]._json['user']['profile_text_color'])\n",
        "    \n",
        "    \n",
        "    dict_['created_at'].append(l.output_list[i]._json['created_at'])\n",
        "    dict_['text'].append(l.output_list[i]._json['text'])\n",
        "    dict_['favorite_count'].append(l.output_list[i]._json['favorite_count'])\n"
      ],
      "execution_count": 0,
      "outputs": []
    },
    {
      "cell_type": "code",
      "metadata": {
        "id": "PHK4LEtQ1KgU",
        "colab_type": "code",
        "colab": {}
      },
      "source": [
        "df = pd.DataFrame(dict_)\n",
        "df.sort_values(by='created_at', inplace=True, ascending=False)"
      ],
      "execution_count": 0,
      "outputs": []
    },
    {
      "cell_type": "code",
      "metadata": {
        "id": "D3j-Mp_A05uH",
        "colab_type": "code",
        "colab": {},
        "outputId": "344881ac-70b2-4b31-e9c8-a5374df2525e"
      },
      "source": [
        "pd.set_option('display.max_colwidth', -1)\n",
        "print(df['text'])"
      ],
      "execution_count": 0,
      "outputs": [
        {
          "output_type": "stream",
          "text": [
            "26486    As if the Government didn't know that!\\n\\nWhy do Courts have to meddle in everything? If this isn't overreach, what i… https://t.co/7y4r9JNk6l\n",
            "26480    RT @gooninggayperv: Serve all penis https://t.co/FRtCaOKbAO                                                                                   \n",
            "26474    Not finna be on here arguing with tar roach looking ass bitches 😂😂😂                                                                           \n",
            "26475    @VANDERW00D i hate u                                                                                                                          \n",
            "26476    shame on you                                                                                                                                  \n",
            "             ...                                                                                                                                       \n",
            "6        RT @LouieDi13: What does Prime Liverpool mean lol! He destroyed all teams at their PRIME                                                      \n",
            "7        i was 15 but u know i was kinda cool at the time so none of them are horrible                                                                 \n",
            "8        RT @ImranGhazaliPK: Government of Punjab leading from the front as #PakistanFightsCorona \\n\\nVery impressive CM @UsmanAKBuzdar and @DrMuradPT…\n",
            "9        some gorlies from them's fightin' herds https://t.co/gakbn0b0te                                                                               \n",
            "0        To find my knees,\\nPlease,\\nplease,\\nOh yeah,,\\nOh Yohanna love,\\nSo she don't know,\\nDoes.                                                   \n",
            "Name: text, Length: 26487, dtype: object\n"
          ],
          "name": "stdout"
        }
      ]
    },
    {
      "cell_type": "code",
      "metadata": {
        "id": "3gdJlXQX05uN",
        "colab_type": "code",
        "colab": {},
        "outputId": "908b0066-caa0-43d3-8463-05c5a4857d30"
      },
      "source": [
        "df['location'].str.contains('CA').sum()"
      ],
      "execution_count": 0,
      "outputs": [
        {
          "output_type": "execute_result",
          "data": {
            "text/plain": [
              "604"
            ]
          },
          "metadata": {
            "tags": []
          },
          "execution_count": 13
        }
      ]
    },
    {
      "cell_type": "code",
      "metadata": {
        "id": "4S_mTUkW05uR",
        "colab_type": "code",
        "colab": {},
        "outputId": "c443f701-5c31-46d8-8494-c4df47c84add"
      },
      "source": [
        "df['location'].isna().sum()"
      ],
      "execution_count": 0,
      "outputs": [
        {
          "output_type": "execute_result",
          "data": {
            "text/plain": [
              "9137"
            ]
          },
          "metadata": {
            "tags": []
          },
          "execution_count": 14
        }
      ]
    },
    {
      "cell_type": "code",
      "metadata": {
        "id": "-J5MJAU305uZ",
        "colab_type": "code",
        "colab": {}
      },
      "source": [
        "df.to_csv('tweets2.csv')"
      ],
      "execution_count": 0,
      "outputs": []
    },
    {
      "cell_type": "code",
      "metadata": {
        "id": "2ONmENpk05vG",
        "colab_type": "code",
        "colab": {}
      },
      "source": [
        ""
      ],
      "execution_count": 0,
      "outputs": []
    }
  ]
}