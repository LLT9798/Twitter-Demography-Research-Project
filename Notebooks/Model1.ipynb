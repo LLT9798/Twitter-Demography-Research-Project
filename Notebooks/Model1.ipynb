{
  "nbformat": 4,
  "nbformat_minor": 0,
  "metadata": {
    "colab": {
      "name": "Model1BERT.ipynb",
      "provenance": [],
      "collapsed_sections": [],
      "machine_shape": "hm",
      "authorship_tag": "ABX9TyNo57/XA89kw9VECsm2iDV9",
      "include_colab_link": true
    },
    "kernelspec": {
      "name": "python3",
      "display_name": "Python 3"
    },
    "accelerator": "TPU",
    "widgets": {
      "application/vnd.jupyter.widget-state+json": {
        "132dc3b64ecd4d2a8c1212e34aecb262": {
          "model_module": "@jupyter-widgets/controls",
          "model_name": "HBoxModel",
          "state": {
            "_view_name": "HBoxView",
            "_dom_classes": [],
            "_model_name": "HBoxModel",
            "_view_module": "@jupyter-widgets/controls",
            "_model_module_version": "1.5.0",
            "_view_count": null,
            "_view_module_version": "1.5.0",
            "box_style": "",
            "layout": "IPY_MODEL_de9b9247b36e43158f7fc41fc3c1db8f",
            "_model_module": "@jupyter-widgets/controls",
            "children": [
              "IPY_MODEL_841bb657d0e04436adb713d8d70f25bc",
              "IPY_MODEL_7c96b867ab2a458db64040dc64224e07"
            ]
          }
        },
        "de9b9247b36e43158f7fc41fc3c1db8f": {
          "model_module": "@jupyter-widgets/base",
          "model_name": "LayoutModel",
          "state": {
            "_view_name": "LayoutView",
            "grid_template_rows": null,
            "right": null,
            "justify_content": null,
            "_view_module": "@jupyter-widgets/base",
            "overflow": null,
            "_model_module_version": "1.2.0",
            "_view_count": null,
            "flex_flow": null,
            "width": null,
            "min_width": null,
            "border": null,
            "align_items": null,
            "bottom": null,
            "_model_module": "@jupyter-widgets/base",
            "top": null,
            "grid_column": null,
            "overflow_y": null,
            "overflow_x": null,
            "grid_auto_flow": null,
            "grid_area": null,
            "grid_template_columns": null,
            "flex": null,
            "_model_name": "LayoutModel",
            "justify_items": null,
            "grid_row": null,
            "max_height": null,
            "align_content": null,
            "visibility": null,
            "align_self": null,
            "height": null,
            "min_height": null,
            "padding": null,
            "grid_auto_rows": null,
            "grid_gap": null,
            "max_width": null,
            "order": null,
            "_view_module_version": "1.2.0",
            "grid_template_areas": null,
            "object_position": null,
            "object_fit": null,
            "grid_auto_columns": null,
            "margin": null,
            "display": null,
            "left": null
          }
        },
        "841bb657d0e04436adb713d8d70f25bc": {
          "model_module": "@jupyter-widgets/controls",
          "model_name": "IntProgressModel",
          "state": {
            "_view_name": "ProgressView",
            "style": "IPY_MODEL_5298e5cdb05b4e33a35eaa2d9dd0b255",
            "_dom_classes": [],
            "description": "Downloading: 100%",
            "_model_name": "IntProgressModel",
            "bar_style": "success",
            "max": 231508,
            "_view_module": "@jupyter-widgets/controls",
            "_model_module_version": "1.5.0",
            "value": 231508,
            "_view_count": null,
            "_view_module_version": "1.5.0",
            "orientation": "horizontal",
            "min": 0,
            "description_tooltip": null,
            "_model_module": "@jupyter-widgets/controls",
            "layout": "IPY_MODEL_2e5d93620dc0429eb0207dae189b7f53"
          }
        },
        "7c96b867ab2a458db64040dc64224e07": {
          "model_module": "@jupyter-widgets/controls",
          "model_name": "HTMLModel",
          "state": {
            "_view_name": "HTMLView",
            "style": "IPY_MODEL_86089267b8fb4a18a2f1d4c84b7b3c50",
            "_dom_classes": [],
            "description": "",
            "_model_name": "HTMLModel",
            "placeholder": "​",
            "_view_module": "@jupyter-widgets/controls",
            "_model_module_version": "1.5.0",
            "value": " 232k/232k [00:00&lt;00:00, 1.74MB/s]",
            "_view_count": null,
            "_view_module_version": "1.5.0",
            "description_tooltip": null,
            "_model_module": "@jupyter-widgets/controls",
            "layout": "IPY_MODEL_5901e887735042e1b3a7bc575c2521ea"
          }
        },
        "5298e5cdb05b4e33a35eaa2d9dd0b255": {
          "model_module": "@jupyter-widgets/controls",
          "model_name": "ProgressStyleModel",
          "state": {
            "_view_name": "StyleView",
            "_model_name": "ProgressStyleModel",
            "description_width": "initial",
            "_view_module": "@jupyter-widgets/base",
            "_model_module_version": "1.5.0",
            "_view_count": null,
            "_view_module_version": "1.2.0",
            "bar_color": null,
            "_model_module": "@jupyter-widgets/controls"
          }
        },
        "2e5d93620dc0429eb0207dae189b7f53": {
          "model_module": "@jupyter-widgets/base",
          "model_name": "LayoutModel",
          "state": {
            "_view_name": "LayoutView",
            "grid_template_rows": null,
            "right": null,
            "justify_content": null,
            "_view_module": "@jupyter-widgets/base",
            "overflow": null,
            "_model_module_version": "1.2.0",
            "_view_count": null,
            "flex_flow": null,
            "width": null,
            "min_width": null,
            "border": null,
            "align_items": null,
            "bottom": null,
            "_model_module": "@jupyter-widgets/base",
            "top": null,
            "grid_column": null,
            "overflow_y": null,
            "overflow_x": null,
            "grid_auto_flow": null,
            "grid_area": null,
            "grid_template_columns": null,
            "flex": null,
            "_model_name": "LayoutModel",
            "justify_items": null,
            "grid_row": null,
            "max_height": null,
            "align_content": null,
            "visibility": null,
            "align_self": null,
            "height": null,
            "min_height": null,
            "padding": null,
            "grid_auto_rows": null,
            "grid_gap": null,
            "max_width": null,
            "order": null,
            "_view_module_version": "1.2.0",
            "grid_template_areas": null,
            "object_position": null,
            "object_fit": null,
            "grid_auto_columns": null,
            "margin": null,
            "display": null,
            "left": null
          }
        },
        "86089267b8fb4a18a2f1d4c84b7b3c50": {
          "model_module": "@jupyter-widgets/controls",
          "model_name": "DescriptionStyleModel",
          "state": {
            "_view_name": "StyleView",
            "_model_name": "DescriptionStyleModel",
            "description_width": "",
            "_view_module": "@jupyter-widgets/base",
            "_model_module_version": "1.5.0",
            "_view_count": null,
            "_view_module_version": "1.2.0",
            "_model_module": "@jupyter-widgets/controls"
          }
        },
        "5901e887735042e1b3a7bc575c2521ea": {
          "model_module": "@jupyter-widgets/base",
          "model_name": "LayoutModel",
          "state": {
            "_view_name": "LayoutView",
            "grid_template_rows": null,
            "right": null,
            "justify_content": null,
            "_view_module": "@jupyter-widgets/base",
            "overflow": null,
            "_model_module_version": "1.2.0",
            "_view_count": null,
            "flex_flow": null,
            "width": null,
            "min_width": null,
            "border": null,
            "align_items": null,
            "bottom": null,
            "_model_module": "@jupyter-widgets/base",
            "top": null,
            "grid_column": null,
            "overflow_y": null,
            "overflow_x": null,
            "grid_auto_flow": null,
            "grid_area": null,
            "grid_template_columns": null,
            "flex": null,
            "_model_name": "LayoutModel",
            "justify_items": null,
            "grid_row": null,
            "max_height": null,
            "align_content": null,
            "visibility": null,
            "align_self": null,
            "height": null,
            "min_height": null,
            "padding": null,
            "grid_auto_rows": null,
            "grid_gap": null,
            "max_width": null,
            "order": null,
            "_view_module_version": "1.2.0",
            "grid_template_areas": null,
            "object_position": null,
            "object_fit": null,
            "grid_auto_columns": null,
            "margin": null,
            "display": null,
            "left": null
          }
        },
        "4ca4ee8cc703493694f0f187f653e7f4": {
          "model_module": "@jupyter-widgets/controls",
          "model_name": "HBoxModel",
          "state": {
            "_view_name": "HBoxView",
            "_dom_classes": [],
            "_model_name": "HBoxModel",
            "_view_module": "@jupyter-widgets/controls",
            "_model_module_version": "1.5.0",
            "_view_count": null,
            "_view_module_version": "1.5.0",
            "box_style": "",
            "layout": "IPY_MODEL_bd6784e2d0524711846961365b9a8ce0",
            "_model_module": "@jupyter-widgets/controls",
            "children": [
              "IPY_MODEL_d06ccc4570da46b5b7d57ab9c4dff1db",
              "IPY_MODEL_fbcac4cca55a4ad4b664ae72a4b1e212"
            ]
          }
        },
        "bd6784e2d0524711846961365b9a8ce0": {
          "model_module": "@jupyter-widgets/base",
          "model_name": "LayoutModel",
          "state": {
            "_view_name": "LayoutView",
            "grid_template_rows": null,
            "right": null,
            "justify_content": null,
            "_view_module": "@jupyter-widgets/base",
            "overflow": null,
            "_model_module_version": "1.2.0",
            "_view_count": null,
            "flex_flow": null,
            "width": null,
            "min_width": null,
            "border": null,
            "align_items": null,
            "bottom": null,
            "_model_module": "@jupyter-widgets/base",
            "top": null,
            "grid_column": null,
            "overflow_y": null,
            "overflow_x": null,
            "grid_auto_flow": null,
            "grid_area": null,
            "grid_template_columns": null,
            "flex": null,
            "_model_name": "LayoutModel",
            "justify_items": null,
            "grid_row": null,
            "max_height": null,
            "align_content": null,
            "visibility": null,
            "align_self": null,
            "height": null,
            "min_height": null,
            "padding": null,
            "grid_auto_rows": null,
            "grid_gap": null,
            "max_width": null,
            "order": null,
            "_view_module_version": "1.2.0",
            "grid_template_areas": null,
            "object_position": null,
            "object_fit": null,
            "grid_auto_columns": null,
            "margin": null,
            "display": null,
            "left": null
          }
        },
        "d06ccc4570da46b5b7d57ab9c4dff1db": {
          "model_module": "@jupyter-widgets/controls",
          "model_name": "IntProgressModel",
          "state": {
            "_view_name": "ProgressView",
            "style": "IPY_MODEL_947ae4ce39fa4b6fa9494a7dd507fdaf",
            "_dom_classes": [],
            "description": "Downloading: 100%",
            "_model_name": "IntProgressModel",
            "bar_style": "success",
            "max": 442,
            "_view_module": "@jupyter-widgets/controls",
            "_model_module_version": "1.5.0",
            "value": 442,
            "_view_count": null,
            "_view_module_version": "1.5.0",
            "orientation": "horizontal",
            "min": 0,
            "description_tooltip": null,
            "_model_module": "@jupyter-widgets/controls",
            "layout": "IPY_MODEL_8977ca9d1de24e47a05a91cb699f654e"
          }
        },
        "fbcac4cca55a4ad4b664ae72a4b1e212": {
          "model_module": "@jupyter-widgets/controls",
          "model_name": "HTMLModel",
          "state": {
            "_view_name": "HTMLView",
            "style": "IPY_MODEL_3d21608a627b40f595fead8a2c3ad971",
            "_dom_classes": [],
            "description": "",
            "_model_name": "HTMLModel",
            "placeholder": "​",
            "_view_module": "@jupyter-widgets/controls",
            "_model_module_version": "1.5.0",
            "value": " 442/442 [00:04&lt;00:00, 105B/s]",
            "_view_count": null,
            "_view_module_version": "1.5.0",
            "description_tooltip": null,
            "_model_module": "@jupyter-widgets/controls",
            "layout": "IPY_MODEL_52ac9b8f8f914be7a9d73da037ee36b5"
          }
        },
        "947ae4ce39fa4b6fa9494a7dd507fdaf": {
          "model_module": "@jupyter-widgets/controls",
          "model_name": "ProgressStyleModel",
          "state": {
            "_view_name": "StyleView",
            "_model_name": "ProgressStyleModel",
            "description_width": "initial",
            "_view_module": "@jupyter-widgets/base",
            "_model_module_version": "1.5.0",
            "_view_count": null,
            "_view_module_version": "1.2.0",
            "bar_color": null,
            "_model_module": "@jupyter-widgets/controls"
          }
        },
        "8977ca9d1de24e47a05a91cb699f654e": {
          "model_module": "@jupyter-widgets/base",
          "model_name": "LayoutModel",
          "state": {
            "_view_name": "LayoutView",
            "grid_template_rows": null,
            "right": null,
            "justify_content": null,
            "_view_module": "@jupyter-widgets/base",
            "overflow": null,
            "_model_module_version": "1.2.0",
            "_view_count": null,
            "flex_flow": null,
            "width": null,
            "min_width": null,
            "border": null,
            "align_items": null,
            "bottom": null,
            "_model_module": "@jupyter-widgets/base",
            "top": null,
            "grid_column": null,
            "overflow_y": null,
            "overflow_x": null,
            "grid_auto_flow": null,
            "grid_area": null,
            "grid_template_columns": null,
            "flex": null,
            "_model_name": "LayoutModel",
            "justify_items": null,
            "grid_row": null,
            "max_height": null,
            "align_content": null,
            "visibility": null,
            "align_self": null,
            "height": null,
            "min_height": null,
            "padding": null,
            "grid_auto_rows": null,
            "grid_gap": null,
            "max_width": null,
            "order": null,
            "_view_module_version": "1.2.0",
            "grid_template_areas": null,
            "object_position": null,
            "object_fit": null,
            "grid_auto_columns": null,
            "margin": null,
            "display": null,
            "left": null
          }
        },
        "3d21608a627b40f595fead8a2c3ad971": {
          "model_module": "@jupyter-widgets/controls",
          "model_name": "DescriptionStyleModel",
          "state": {
            "_view_name": "StyleView",
            "_model_name": "DescriptionStyleModel",
            "description_width": "",
            "_view_module": "@jupyter-widgets/base",
            "_model_module_version": "1.5.0",
            "_view_count": null,
            "_view_module_version": "1.2.0",
            "_model_module": "@jupyter-widgets/controls"
          }
        },
        "52ac9b8f8f914be7a9d73da037ee36b5": {
          "model_module": "@jupyter-widgets/base",
          "model_name": "LayoutModel",
          "state": {
            "_view_name": "LayoutView",
            "grid_template_rows": null,
            "right": null,
            "justify_content": null,
            "_view_module": "@jupyter-widgets/base",
            "overflow": null,
            "_model_module_version": "1.2.0",
            "_view_count": null,
            "flex_flow": null,
            "width": null,
            "min_width": null,
            "border": null,
            "align_items": null,
            "bottom": null,
            "_model_module": "@jupyter-widgets/base",
            "top": null,
            "grid_column": null,
            "overflow_y": null,
            "overflow_x": null,
            "grid_auto_flow": null,
            "grid_area": null,
            "grid_template_columns": null,
            "flex": null,
            "_model_name": "LayoutModel",
            "justify_items": null,
            "grid_row": null,
            "max_height": null,
            "align_content": null,
            "visibility": null,
            "align_self": null,
            "height": null,
            "min_height": null,
            "padding": null,
            "grid_auto_rows": null,
            "grid_gap": null,
            "max_width": null,
            "order": null,
            "_view_module_version": "1.2.0",
            "grid_template_areas": null,
            "object_position": null,
            "object_fit": null,
            "grid_auto_columns": null,
            "margin": null,
            "display": null,
            "left": null
          }
        },
        "4232b8876c114bbf8e111a97028af317": {
          "model_module": "@jupyter-widgets/controls",
          "model_name": "HBoxModel",
          "state": {
            "_view_name": "HBoxView",
            "_dom_classes": [],
            "_model_name": "HBoxModel",
            "_view_module": "@jupyter-widgets/controls",
            "_model_module_version": "1.5.0",
            "_view_count": null,
            "_view_module_version": "1.5.0",
            "box_style": "",
            "layout": "IPY_MODEL_ecee70b9788f4ae6a40bdfb84f254302",
            "_model_module": "@jupyter-widgets/controls",
            "children": [
              "IPY_MODEL_37320081df104f719aa47bfd9f9ba232",
              "IPY_MODEL_5ec14ebd771841a7a4b450b62d8130ca"
            ]
          }
        },
        "ecee70b9788f4ae6a40bdfb84f254302": {
          "model_module": "@jupyter-widgets/base",
          "model_name": "LayoutModel",
          "state": {
            "_view_name": "LayoutView",
            "grid_template_rows": null,
            "right": null,
            "justify_content": null,
            "_view_module": "@jupyter-widgets/base",
            "overflow": null,
            "_model_module_version": "1.2.0",
            "_view_count": null,
            "flex_flow": null,
            "width": null,
            "min_width": null,
            "border": null,
            "align_items": null,
            "bottom": null,
            "_model_module": "@jupyter-widgets/base",
            "top": null,
            "grid_column": null,
            "overflow_y": null,
            "overflow_x": null,
            "grid_auto_flow": null,
            "grid_area": null,
            "grid_template_columns": null,
            "flex": null,
            "_model_name": "LayoutModel",
            "justify_items": null,
            "grid_row": null,
            "max_height": null,
            "align_content": null,
            "visibility": null,
            "align_self": null,
            "height": null,
            "min_height": null,
            "padding": null,
            "grid_auto_rows": null,
            "grid_gap": null,
            "max_width": null,
            "order": null,
            "_view_module_version": "1.2.0",
            "grid_template_areas": null,
            "object_position": null,
            "object_fit": null,
            "grid_auto_columns": null,
            "margin": null,
            "display": null,
            "left": null
          }
        },
        "37320081df104f719aa47bfd9f9ba232": {
          "model_module": "@jupyter-widgets/controls",
          "model_name": "IntProgressModel",
          "state": {
            "_view_name": "ProgressView",
            "style": "IPY_MODEL_3b7c1cd5f1304a6abb11dfe97fee9808",
            "_dom_classes": [],
            "description": "Downloading: 100%",
            "_model_name": "IntProgressModel",
            "bar_style": "success",
            "max": 267967963,
            "_view_module": "@jupyter-widgets/controls",
            "_model_module_version": "1.5.0",
            "value": 267967963,
            "_view_count": null,
            "_view_module_version": "1.5.0",
            "orientation": "horizontal",
            "min": 0,
            "description_tooltip": null,
            "_model_module": "@jupyter-widgets/controls",
            "layout": "IPY_MODEL_3da3856b1c664e57906eca80dc9f160b"
          }
        },
        "5ec14ebd771841a7a4b450b62d8130ca": {
          "model_module": "@jupyter-widgets/controls",
          "model_name": "HTMLModel",
          "state": {
            "_view_name": "HTMLView",
            "style": "IPY_MODEL_d7da420d173e43628203edff44c9475e",
            "_dom_classes": [],
            "description": "",
            "_model_name": "HTMLModel",
            "placeholder": "​",
            "_view_module": "@jupyter-widgets/controls",
            "_model_module_version": "1.5.0",
            "value": " 268M/268M [00:03&lt;00:00, 69.3MB/s]",
            "_view_count": null,
            "_view_module_version": "1.5.0",
            "description_tooltip": null,
            "_model_module": "@jupyter-widgets/controls",
            "layout": "IPY_MODEL_4bd04fa121854f8c991e2927299fa7a5"
          }
        },
        "3b7c1cd5f1304a6abb11dfe97fee9808": {
          "model_module": "@jupyter-widgets/controls",
          "model_name": "ProgressStyleModel",
          "state": {
            "_view_name": "StyleView",
            "_model_name": "ProgressStyleModel",
            "description_width": "initial",
            "_view_module": "@jupyter-widgets/base",
            "_model_module_version": "1.5.0",
            "_view_count": null,
            "_view_module_version": "1.2.0",
            "bar_color": null,
            "_model_module": "@jupyter-widgets/controls"
          }
        },
        "3da3856b1c664e57906eca80dc9f160b": {
          "model_module": "@jupyter-widgets/base",
          "model_name": "LayoutModel",
          "state": {
            "_view_name": "LayoutView",
            "grid_template_rows": null,
            "right": null,
            "justify_content": null,
            "_view_module": "@jupyter-widgets/base",
            "overflow": null,
            "_model_module_version": "1.2.0",
            "_view_count": null,
            "flex_flow": null,
            "width": null,
            "min_width": null,
            "border": null,
            "align_items": null,
            "bottom": null,
            "_model_module": "@jupyter-widgets/base",
            "top": null,
            "grid_column": null,
            "overflow_y": null,
            "overflow_x": null,
            "grid_auto_flow": null,
            "grid_area": null,
            "grid_template_columns": null,
            "flex": null,
            "_model_name": "LayoutModel",
            "justify_items": null,
            "grid_row": null,
            "max_height": null,
            "align_content": null,
            "visibility": null,
            "align_self": null,
            "height": null,
            "min_height": null,
            "padding": null,
            "grid_auto_rows": null,
            "grid_gap": null,
            "max_width": null,
            "order": null,
            "_view_module_version": "1.2.0",
            "grid_template_areas": null,
            "object_position": null,
            "object_fit": null,
            "grid_auto_columns": null,
            "margin": null,
            "display": null,
            "left": null
          }
        },
        "d7da420d173e43628203edff44c9475e": {
          "model_module": "@jupyter-widgets/controls",
          "model_name": "DescriptionStyleModel",
          "state": {
            "_view_name": "StyleView",
            "_model_name": "DescriptionStyleModel",
            "description_width": "",
            "_view_module": "@jupyter-widgets/base",
            "_model_module_version": "1.5.0",
            "_view_count": null,
            "_view_module_version": "1.2.0",
            "_model_module": "@jupyter-widgets/controls"
          }
        },
        "4bd04fa121854f8c991e2927299fa7a5": {
          "model_module": "@jupyter-widgets/base",
          "model_name": "LayoutModel",
          "state": {
            "_view_name": "LayoutView",
            "grid_template_rows": null,
            "right": null,
            "justify_content": null,
            "_view_module": "@jupyter-widgets/base",
            "overflow": null,
            "_model_module_version": "1.2.0",
            "_view_count": null,
            "flex_flow": null,
            "width": null,
            "min_width": null,
            "border": null,
            "align_items": null,
            "bottom": null,
            "_model_module": "@jupyter-widgets/base",
            "top": null,
            "grid_column": null,
            "overflow_y": null,
            "overflow_x": null,
            "grid_auto_flow": null,
            "grid_area": null,
            "grid_template_columns": null,
            "flex": null,
            "_model_name": "LayoutModel",
            "justify_items": null,
            "grid_row": null,
            "max_height": null,
            "align_content": null,
            "visibility": null,
            "align_self": null,
            "height": null,
            "min_height": null,
            "padding": null,
            "grid_auto_rows": null,
            "grid_gap": null,
            "max_width": null,
            "order": null,
            "_view_module_version": "1.2.0",
            "grid_template_areas": null,
            "object_position": null,
            "object_fit": null,
            "grid_auto_columns": null,
            "margin": null,
            "display": null,
            "left": null
          }
        }
      }
    }
  },
  "cells": [
    {
      "cell_type": "markdown",
      "metadata": {
        "id": "view-in-github",
        "colab_type": "text"
      },
      "source": [
        "<a href=\"https://colab.research.google.com/github/LLT9798/Twitter-Demography-Research-Project/blob/master/Model1.ipynb\" target=\"_parent\"><img src=\"https://colab.research.google.com/assets/colab-badge.svg\" alt=\"Open In Colab\"/></a>"
      ]
    },
    {
      "cell_type": "code",
      "metadata": {
        "id": "ztp68mbd1CSY",
        "colab_type": "code",
        "outputId": "a3a8c4a1-f006-4d4c-bed7-c8e3130eab2d",
        "colab": {
          "base_uri": "https://localhost:8080/",
          "height": 1000
        }
      },
      "source": [
        "import numpy as np\n",
        "import matplotlib.pyplot as plt\n",
        "import pandas as pd\n",
        "import string\n",
        "%matplotlib notebook\n",
        "from PIL import Image\n",
        "from sklearn.utils import shuffle\n",
        "\n",
        "\n",
        "!pip install nltk\n",
        "\n",
        "#pre-processing\n",
        "import re\n",
        "import nltk\n",
        "nltk.download('stopwords')\n",
        "nltk.download('wordnet')\n",
        "from nltk.corpus import stopwords\n",
        "from nltk.stem.porter import PorterStemmer\n",
        "from nltk.stem import WordNetLemmatizer \n",
        "english_stemmer=nltk.stem.SnowballStemmer('english')\n",
        "from sklearn.model_selection import train_test_split\n",
        "from sklearn.utils import shuffle\n",
        "from sklearn.feature_extraction.text import CountVectorizer,TfidfVectorizer\n",
        "\n",
        "\n",
        "\n",
        "#modeling\n",
        "from sklearn.naive_bayes import GaussianNB,BernoulliNB,MultinomialNB\n",
        "from sklearn.linear_model import LogisticRegression\n",
        "from sklearn.linear_model import RidgeClassifier\n",
        "from sklearn.ensemble import RandomForestClassifier\n",
        "from sklearn.svm import LinearSVC\n",
        "from sklearn.neural_network import MLPClassifier\n",
        "from sklearn.linear_model import SGDClassifier\n",
        "from sklearn.neighbors import KNeighborsClassifier\n",
        "from sklearn.svm import SVC\n",
        "from sklearn.gaussian_process import GaussianProcessClassifier\n",
        "from sklearn.gaussian_process.kernels import RBF\n",
        "from sklearn.ensemble import RandomForestClassifier, AdaBoostClassifier\n",
        "\n",
        "\n",
        "\n",
        "#CV\n",
        "from sklearn.pipeline import Pipeline\n",
        "from sklearn.model_selection import cross_val_score, GridSearchCV\n",
        "from sklearn.model_selection import cross_validate\n",
        "from sklearn.metrics import accuracy_score\n",
        "from sklearn.metrics import classification_report, confusion_matrix\n",
        "from sklearn import metrics\n",
        "from numpy import array\n",
        "from sklearn.model_selection import KFold\n",
        "\n",
        "!pip install pytorch_pretrained_bert\n",
        "!pip install transformers\n",
        "import torch\n",
        "from pytorch_pretrained_bert import BertTokenizer, BertModel, BertForMaskedLM\n",
        "import transformers as ppb # pytorch transformers"
      ],
      "execution_count": 1,
      "outputs": [
        {
          "output_type": "stream",
          "text": [
            "Requirement already satisfied: nltk in /usr/local/lib/python3.6/dist-packages (3.2.5)\n",
            "Requirement already satisfied: six in /usr/local/lib/python3.6/dist-packages (from nltk) (1.12.0)\n",
            "[nltk_data] Downloading package stopwords to /root/nltk_data...\n",
            "[nltk_data]   Unzipping corpora/stopwords.zip.\n",
            "[nltk_data] Downloading package wordnet to /root/nltk_data...\n",
            "[nltk_data]   Unzipping corpora/wordnet.zip.\n",
            "Collecting pytorch_pretrained_bert\n",
            "\u001b[?25l  Downloading https://files.pythonhosted.org/packages/d7/e0/c08d5553b89973d9a240605b9c12404bcf8227590de62bae27acbcfe076b/pytorch_pretrained_bert-0.6.2-py3-none-any.whl (123kB)\n",
            "\u001b[K     |████████████████████████████████| 133kB 3.5MB/s \n",
            "\u001b[?25hRequirement already satisfied: tqdm in /usr/local/lib/python3.6/dist-packages (from pytorch_pretrained_bert) (4.38.0)\n",
            "Requirement already satisfied: numpy in /usr/local/lib/python3.6/dist-packages (from pytorch_pretrained_bert) (1.18.3)\n",
            "Requirement already satisfied: regex in /usr/local/lib/python3.6/dist-packages (from pytorch_pretrained_bert) (2019.12.20)\n",
            "Requirement already satisfied: torch>=0.4.1 in /usr/local/lib/python3.6/dist-packages (from pytorch_pretrained_bert) (1.5.0+cu101)\n",
            "Requirement already satisfied: boto3 in /usr/local/lib/python3.6/dist-packages (from pytorch_pretrained_bert) (1.12.47)\n",
            "Requirement already satisfied: requests in /usr/local/lib/python3.6/dist-packages (from pytorch_pretrained_bert) (2.23.0)\n",
            "Requirement already satisfied: future in /usr/local/lib/python3.6/dist-packages (from torch>=0.4.1->pytorch_pretrained_bert) (0.16.0)\n",
            "Requirement already satisfied: s3transfer<0.4.0,>=0.3.0 in /usr/local/lib/python3.6/dist-packages (from boto3->pytorch_pretrained_bert) (0.3.3)\n",
            "Requirement already satisfied: jmespath<1.0.0,>=0.7.1 in /usr/local/lib/python3.6/dist-packages (from boto3->pytorch_pretrained_bert) (0.9.5)\n",
            "Requirement already satisfied: botocore<1.16.0,>=1.15.47 in /usr/local/lib/python3.6/dist-packages (from boto3->pytorch_pretrained_bert) (1.15.47)\n",
            "Requirement already satisfied: idna<3,>=2.5 in /usr/local/lib/python3.6/dist-packages (from requests->pytorch_pretrained_bert) (2.9)\n",
            "Requirement already satisfied: chardet<4,>=3.0.2 in /usr/local/lib/python3.6/dist-packages (from requests->pytorch_pretrained_bert) (3.0.4)\n",
            "Requirement already satisfied: urllib3!=1.25.0,!=1.25.1,<1.26,>=1.21.1 in /usr/local/lib/python3.6/dist-packages (from requests->pytorch_pretrained_bert) (1.24.3)\n",
            "Requirement already satisfied: certifi>=2017.4.17 in /usr/local/lib/python3.6/dist-packages (from requests->pytorch_pretrained_bert) (2020.4.5.1)\n",
            "Requirement already satisfied: docutils<0.16,>=0.10 in /usr/local/lib/python3.6/dist-packages (from botocore<1.16.0,>=1.15.47->boto3->pytorch_pretrained_bert) (0.15.2)\n",
            "Requirement already satisfied: python-dateutil<3.0.0,>=2.1 in /usr/local/lib/python3.6/dist-packages (from botocore<1.16.0,>=1.15.47->boto3->pytorch_pretrained_bert) (2.8.1)\n",
            "Requirement already satisfied: six>=1.5 in /usr/local/lib/python3.6/dist-packages (from python-dateutil<3.0.0,>=2.1->botocore<1.16.0,>=1.15.47->boto3->pytorch_pretrained_bert) (1.12.0)\n",
            "Installing collected packages: pytorch-pretrained-bert\n",
            "Successfully installed pytorch-pretrained-bert-0.6.2\n",
            "Collecting transformers\n",
            "\u001b[?25l  Downloading https://files.pythonhosted.org/packages/a3/78/92cedda05552398352ed9784908b834ee32a0bd071a9b32de287327370b7/transformers-2.8.0-py3-none-any.whl (563kB)\n",
            "\u001b[K     |████████████████████████████████| 573kB 3.2MB/s \n",
            "\u001b[?25hRequirement already satisfied: tqdm>=4.27 in /usr/local/lib/python3.6/dist-packages (from transformers) (4.38.0)\n",
            "Requirement already satisfied: regex!=2019.12.17 in /usr/local/lib/python3.6/dist-packages (from transformers) (2019.12.20)\n",
            "Requirement already satisfied: dataclasses; python_version < \"3.7\" in /usr/local/lib/python3.6/dist-packages (from transformers) (0.7)\n",
            "Requirement already satisfied: numpy in /usr/local/lib/python3.6/dist-packages (from transformers) (1.18.3)\n",
            "Requirement already satisfied: boto3 in /usr/local/lib/python3.6/dist-packages (from transformers) (1.12.47)\n",
            "Collecting sacremoses\n",
            "\u001b[?25l  Downloading https://files.pythonhosted.org/packages/7d/34/09d19aff26edcc8eb2a01bed8e98f13a1537005d31e95233fd48216eed10/sacremoses-0.0.43.tar.gz (883kB)\n",
            "\u001b[K     |████████████████████████████████| 890kB 50.6MB/s \n",
            "\u001b[?25hCollecting sentencepiece\n",
            "\u001b[?25l  Downloading https://files.pythonhosted.org/packages/98/2c/8df20f3ac6c22ac224fff307ebc102818206c53fc454ecd37d8ac2060df5/sentencepiece-0.1.86-cp36-cp36m-manylinux1_x86_64.whl (1.0MB)\n",
            "\u001b[K     |████████████████████████████████| 1.0MB 48.8MB/s \n",
            "\u001b[?25hRequirement already satisfied: requests in /usr/local/lib/python3.6/dist-packages (from transformers) (2.23.0)\n",
            "Collecting tokenizers==0.5.2\n",
            "\u001b[?25l  Downloading https://files.pythonhosted.org/packages/d1/3f/73c881ea4723e43c1e9acf317cf407fab3a278daab3a69c98dcac511c04f/tokenizers-0.5.2-cp36-cp36m-manylinux1_x86_64.whl (3.7MB)\n",
            "\u001b[K     |████████████████████████████████| 3.7MB 56.0MB/s \n",
            "\u001b[?25hRequirement already satisfied: filelock in /usr/local/lib/python3.6/dist-packages (from transformers) (3.0.12)\n",
            "Requirement already satisfied: botocore<1.16.0,>=1.15.47 in /usr/local/lib/python3.6/dist-packages (from boto3->transformers) (1.15.47)\n",
            "Requirement already satisfied: s3transfer<0.4.0,>=0.3.0 in /usr/local/lib/python3.6/dist-packages (from boto3->transformers) (0.3.3)\n",
            "Requirement already satisfied: jmespath<1.0.0,>=0.7.1 in /usr/local/lib/python3.6/dist-packages (from boto3->transformers) (0.9.5)\n",
            "Requirement already satisfied: six in /usr/local/lib/python3.6/dist-packages (from sacremoses->transformers) (1.12.0)\n",
            "Requirement already satisfied: click in /usr/local/lib/python3.6/dist-packages (from sacremoses->transformers) (7.1.2)\n",
            "Requirement already satisfied: joblib in /usr/local/lib/python3.6/dist-packages (from sacremoses->transformers) (0.14.1)\n",
            "Requirement already satisfied: urllib3!=1.25.0,!=1.25.1,<1.26,>=1.21.1 in /usr/local/lib/python3.6/dist-packages (from requests->transformers) (1.24.3)\n",
            "Requirement already satisfied: idna<3,>=2.5 in /usr/local/lib/python3.6/dist-packages (from requests->transformers) (2.9)\n",
            "Requirement already satisfied: certifi>=2017.4.17 in /usr/local/lib/python3.6/dist-packages (from requests->transformers) (2020.4.5.1)\n",
            "Requirement already satisfied: chardet<4,>=3.0.2 in /usr/local/lib/python3.6/dist-packages (from requests->transformers) (3.0.4)\n",
            "Requirement already satisfied: docutils<0.16,>=0.10 in /usr/local/lib/python3.6/dist-packages (from botocore<1.16.0,>=1.15.47->boto3->transformers) (0.15.2)\n",
            "Requirement already satisfied: python-dateutil<3.0.0,>=2.1 in /usr/local/lib/python3.6/dist-packages (from botocore<1.16.0,>=1.15.47->boto3->transformers) (2.8.1)\n",
            "Building wheels for collected packages: sacremoses\n",
            "  Building wheel for sacremoses (setup.py) ... \u001b[?25l\u001b[?25hdone\n",
            "  Created wheel for sacremoses: filename=sacremoses-0.0.43-cp36-none-any.whl size=893260 sha256=768029b539fac7b0be5da0fcfd1b6149405dcc269c8ef97b8f6376600fd32454\n",
            "  Stored in directory: /root/.cache/pip/wheels/29/3c/fd/7ce5c3f0666dab31a50123635e6fb5e19ceb42ce38d4e58f45\n",
            "Successfully built sacremoses\n",
            "Installing collected packages: sacremoses, sentencepiece, tokenizers, transformers\n",
            "Successfully installed sacremoses-0.0.43 sentencepiece-0.1.86 tokenizers-0.5.2 transformers-2.8.0\n"
          ],
          "name": "stdout"
        }
      ]
    },
    {
      "cell_type": "code",
      "metadata": {
        "id": "l0wPy7Mt1ExJ",
        "colab_type": "code",
        "colab": {}
      },
      "source": [
        "from pydrive.auth import GoogleAuth\n",
        "from pydrive.drive import GoogleDrive\n",
        "from google.colab import auth\n",
        "from oauth2client.client import GoogleCredentials\n",
        "# Authenticate and create the PyDrive client.\n",
        "auth.authenticate_user()\n",
        "gauth = GoogleAuth()\n",
        "gauth.credentials = GoogleCredentials.get_application_default()\n",
        "drive = GoogleDrive(gauth)"
      ],
      "execution_count": 0,
      "outputs": []
    },
    {
      "cell_type": "code",
      "metadata": {
        "id": "YoIPJeD21E4g",
        "colab_type": "code",
        "outputId": "bda5d58d-efba-445f-fc80-696550f69dc1",
        "colab": {
          "base_uri": "https://localhost:8080/",
          "height": 34
        }
      },
      "source": [
        "link = 'https://drive.google.com/open?id=1x__GAttdEtRo8NjhItfaqATBlqxrcV7w'\n",
        "\n",
        "fluff, id = link.split('=')\n",
        "print (id)\n",
        "downloaded = drive.CreateFile({'id':id}) \n",
        "downloaded.GetContentFile('label_cleaned.csv')  "
      ],
      "execution_count": 3,
      "outputs": [
        {
          "output_type": "stream",
          "text": [
            "1x__GAttdEtRo8NjhItfaqATBlqxrcV7w\n"
          ],
          "name": "stdout"
        }
      ]
    },
    {
      "cell_type": "code",
      "metadata": {
        "id": "S2oMMyMP1FGW",
        "colab_type": "code",
        "outputId": "5c3fb22f-ade0-487d-e194-e35854aa6e2b",
        "colab": {
          "base_uri": "https://localhost:8080/",
          "height": 34
        }
      },
      "source": [
        "df = pd.read_csv('label_cleaned.csv')\n",
        "df.shape"
      ],
      "execution_count": 4,
      "outputs": [
        {
          "output_type": "execute_result",
          "data": {
            "text/plain": [
              "(2667, 15)"
            ]
          },
          "metadata": {
            "tags": []
          },
          "execution_count": 4
        }
      ]
    },
    {
      "cell_type": "code",
      "metadata": {
        "id": "6AEe5Tb21FDz",
        "colab_type": "code",
        "colab": {}
      },
      "source": [
        "df = df[['text', 'description', 'profile_sidebar_fill_color', 'gender']]\n",
        "df.rename(columns={'profile_sidebar_fill_color':'sidebar_color'}, inplace=True)\n",
        "#the model's main purpose is detecting gender, so we didn't pick 'location' feature\n",
        "df.dropna(inplace = True)\n",
        "df.drop(df[(df['gender'] == 'n') | \n",
        "           (df['gender'] == 'b')].index, inplace = True)"
      ],
      "execution_count": 0,
      "outputs": []
    },
    {
      "cell_type": "code",
      "metadata": {
        "id": "57kXUEZrn8on",
        "colab_type": "code",
        "outputId": "5552c194-d623-423c-c592-7aeb4c07c7c9",
        "colab": {
          "base_uri": "https://localhost:8080/",
          "height": 85
        }
      },
      "source": [
        "!pip install emojis"
      ],
      "execution_count": 6,
      "outputs": [
        {
          "output_type": "stream",
          "text": [
            "Collecting emojis\n",
            "  Downloading https://files.pythonhosted.org/packages/a5/ba/f2b469dd55e5acdd25167cb23b5270a8d8b9ceed038b033af37de1266afb/emojis-0.5.1-py3-none-any.whl\n",
            "Installing collected packages: emojis\n",
            "Successfully installed emojis-0.5.1\n"
          ],
          "name": "stdout"
        }
      ]
    },
    {
      "cell_type": "code",
      "metadata": {
        "id": "g0PQcCIrn6d1",
        "colab_type": "code",
        "outputId": "cee2b03f-6293-4581-d9d1-0e8c9fe49bb9",
        "colab": {
          "base_uri": "https://localhost:8080/",
          "height": 512
        }
      },
      "source": [
        "import emojis\n",
        "import regex\n",
        "\n",
        "#def split_count(text):\n",
        "\n",
        "    #emoji_list = []\n",
        "    #data = regex.findall(r'\\X', text)\n",
        "    #for word in data:\n",
        "        #if any(char in emoji.UNICODE_EMOJI for char in word):\n",
        "            #emoji_list.append(word)\n",
        "\n",
        "    #return emoji_list\n",
        "\n",
        "emoji_count1 = df['text'].apply(lambda x : emojis.count(str(x)))\n",
        "emoji_count2 = df['description'].apply(lambda x : emojis.count(str(x)))\n",
        "df['emoji']= emoji_count1 + emoji_count2\n",
        "\n",
        "pd.options.display.max_colwidth = 999999\n",
        "df.head(10)"
      ],
      "execution_count": 7,
      "outputs": [
        {
          "output_type": "execute_result",
          "data": {
            "text/html": [
              "<div>\n",
              "<style scoped>\n",
              "    .dataframe tbody tr th:only-of-type {\n",
              "        vertical-align: middle;\n",
              "    }\n",
              "\n",
              "    .dataframe tbody tr th {\n",
              "        vertical-align: top;\n",
              "    }\n",
              "\n",
              "    .dataframe thead th {\n",
              "        text-align: right;\n",
              "    }\n",
              "</style>\n",
              "<table border=\"1\" class=\"dataframe\">\n",
              "  <thead>\n",
              "    <tr style=\"text-align: right;\">\n",
              "      <th></th>\n",
              "      <th>text</th>\n",
              "      <th>description</th>\n",
              "      <th>sidebar_color</th>\n",
              "      <th>gender</th>\n",
              "      <th>emoji</th>\n",
              "    </tr>\n",
              "  </thead>\n",
              "  <tbody>\n",
              "    <tr>\n",
              "      <th>0</th>\n",
              "      <td>every action movie: \\n“how many minutes do you need?” \\n“this many minutes” \\n“YOU HAVE A SOMEWHAT SMALLER NUMBER OF MINUTES”</td>\n",
              "      <td>25 • they/she • MFA playwright • published model • co-writer @ThankYou5Show • @blackouttheatre • put the ho in stay the fuck home</td>\n",
              "      <td>DDEEF6</td>\n",
              "      <td>0</td>\n",
              "      <td>0</td>\n",
              "    </tr>\n",
              "    <tr>\n",
              "      <th>1</th>\n",
              "      <td>@myotical sad girl cries from my barren American Netflix :'(</td>\n",
              "      <td>23, she/her, artist &amp; animal crossing lover - currently living it up on the isle of misthaven✌️💕 catch me elsewhere: https://linktr.ee/allmadihere ✨</td>\n",
              "      <td>DDEEF6</td>\n",
              "      <td>0</td>\n",
              "      <td>3</td>\n",
              "    </tr>\n",
              "    <tr>\n",
              "      <th>2</th>\n",
              "      <td>It’s not the rapist, it’s the child who’s the villain!</td>\n",
              "      <td>99% sarcasm &amp; righteous indignation. She/her. @mythsbaby is my podcast. I'm pretty honest about how shitty men were. Listen: http://apple.co/2uIOHS0</td>\n",
              "      <td>C9C1C9</td>\n",
              "      <td>0</td>\n",
              "      <td>0</td>\n",
              "    </tr>\n",
              "    <tr>\n",
              "      <th>3</th>\n",
              "      <td>@xXAutumnIvyXx This Cosplay is incredible and after seeing it I wouldn't mind a female Crow movie! Thank you for sh… https://t.co/koJeSO7icX</td>\n",
              "      <td>24|he/him|Straight|.Weeb.Loyal Friend. Team Rep for the Corgi Corps. #PawsUp🐾🐾Outlaws, Fusion and Reign are my teams baby! NSFW Post! #UpTheAnte #LetItReign</td>\n",
              "      <td>000000</td>\n",
              "      <td>1</td>\n",
              "      <td>2</td>\n",
              "    </tr>\n",
              "    <tr>\n",
              "      <th>4</th>\n",
              "      <td>@JUSOPP are you saying that it's not worth it? I can watch those super secret youtubes now that ARE premium-only, a… https://t.co/TKoFLvRwNx</td>\n",
              "      <td>33 year old female. OLDER BABIES! \\o/→#personalaccount o3o♥ Lil dose of sunsh- mostly rants, really. Need For Speed, Battlefield 3, art, traces, redraws, OCs.</td>\n",
              "      <td>DDEEF6</td>\n",
              "      <td>0</td>\n",
              "      <td>0</td>\n",
              "    </tr>\n",
              "    <tr>\n",
              "      <th>5</th>\n",
              "      <td>A Movie &amp;amp; then Off to bed💤🤍 https://t.co/WcVOF9sAZh</td>\n",
              "      <td>22| 🌴California girl stuck in Kansas🌻Mom🖤Post Lover 🔪Insta- Jordanah.king 🌙☀️🌿🦋 ☮️</td>\n",
              "      <td>DDEEF6</td>\n",
              "      <td>0</td>\n",
              "      <td>11</td>\n",
              "    </tr>\n",
              "    <tr>\n",
              "      <th>6</th>\n",
              "      <td>Today I'm thankful @rileighsmirl tweeted and reminded me about all of the @iliza content on Netflix because that is… https://t.co/Zt7ttHcCse</td>\n",
              "      <td>22, I tweet about dnd and coding | she/her</td>\n",
              "      <td>DDEEF6</td>\n",
              "      <td>0</td>\n",
              "      <td>0</td>\n",
              "    </tr>\n",
              "    <tr>\n",
              "      <th>7</th>\n",
              "      <td>streaming services: full of content enough content i won't get thru it in this lifetime\\n\\nme: i think i will get int… https://t.co/XJ0DCfVq2G</td>\n",
              "      <td>25, loves napping💤, gaming 🎮, n grace and frankie👩‍❤️‍👩 🌸 // jinkies! 🔍🕵️‍♀️ (she/her) header by @andythestreet</td>\n",
              "      <td>7AC3EE</td>\n",
              "      <td>0</td>\n",
              "      <td>6</td>\n",
              "    </tr>\n",
              "    <tr>\n",
              "      <th>9</th>\n",
              "      <td>hmm stuck between either willow, biig piig or yana perrault as a voice claim for astraia hhhhhhmmmmmm… https://t.co/i34PfSoh3c</td>\n",
              "      <td>21 * she/her 🌻⭐️ i love stardew valley and steven universe, i draw and just run my mouth a lot 🌻⭐️ (header by @squid_twins icon by @eqqyman) nsfw @splcycoffee</td>\n",
              "      <td>000000</td>\n",
              "      <td>0</td>\n",
              "      <td>4</td>\n",
              "    </tr>\n",
              "    <tr>\n",
              "      <th>10</th>\n",
              "      <td>I don’t normally recommend tv shows, so when I do you can bet on it being a decent one. I could literally binge wat… https://t.co/IcGCHKH5wY</td>\n",
              "      <td>24 years old. Taken by @SchoeffShannon on 01/08/17 ❤️ Welcome to the Show</td>\n",
              "      <td>EFEFEF</td>\n",
              "      <td>1</td>\n",
              "      <td>1</td>\n",
              "    </tr>\n",
              "  </tbody>\n",
              "</table>\n",
              "</div>"
            ],
            "text/plain": [
              "                                                                                                                                              text  ... emoji\n",
              "0                    every action movie: \\n“how many minutes do you need?” \\n“this many minutes” \\n“YOU HAVE A SOMEWHAT SMALLER NUMBER OF MINUTES”  ...     0\n",
              "1                                                                                     @myotical sad girl cries from my barren American Netflix :'(  ...     3\n",
              "2                                                                                           It’s not the rapist, it’s the child who’s the villain!  ...     0\n",
              "3     @xXAutumnIvyXx This Cosplay is incredible and after seeing it I wouldn't mind a female Crow movie! Thank you for sh… https://t.co/koJeSO7icX  ...     2\n",
              "4     @JUSOPP are you saying that it's not worth it? I can watch those super secret youtubes now that ARE premium-only, a… https://t.co/TKoFLvRwNx  ...     0\n",
              "5                                                                                          A Movie &amp; then Off to bed💤🤍 https://t.co/WcVOF9sAZh  ...    11\n",
              "6     Today I'm thankful @rileighsmirl tweeted and reminded me about all of the @iliza content on Netflix because that is… https://t.co/Zt7ttHcCse  ...     0\n",
              "7   streaming services: full of content enough content i won't get thru it in this lifetime\\n\\nme: i think i will get int… https://t.co/XJ0DCfVq2G  ...     6\n",
              "9                   hmm stuck between either willow, biig piig or yana perrault as a voice claim for astraia hhhhhhmmmmmm… https://t.co/i34PfSoh3c  ...     4\n",
              "10    I don’t normally recommend tv shows, so when I do you can bet on it being a decent one. I could literally binge wat… https://t.co/IcGCHKH5wY  ...     1\n",
              "\n",
              "[10 rows x 5 columns]"
            ]
          },
          "metadata": {
            "tags": []
          },
          "execution_count": 7
        }
      ]
    },
    {
      "cell_type": "code",
      "metadata": {
        "id": "amc9X2PdptFN",
        "colab_type": "code",
        "outputId": "ab48e83d-32e4-4ee7-a459-ac8f1ce25e1a",
        "colab": {
          "base_uri": "https://localhost:8080/",
          "height": 340
        }
      },
      "source": [
        "df['emoji'].value_counts()"
      ],
      "execution_count": 8,
      "outputs": [
        {
          "output_type": "execute_result",
          "data": {
            "text/plain": [
              "0     1240\n",
              "1      279\n",
              "2      166\n",
              "3      108\n",
              "4       92\n",
              "5       48\n",
              "6       29\n",
              "7       15\n",
              "9       14\n",
              "8       13\n",
              "10       7\n",
              "12       6\n",
              "11       5\n",
              "14       3\n",
              "23       1\n",
              "13       1\n",
              "18       1\n",
              "24       1\n",
              "Name: emoji, dtype: int64"
            ]
          },
          "metadata": {
            "tags": []
          },
          "execution_count": 8
        }
      ]
    },
    {
      "cell_type": "code",
      "metadata": {
        "id": "bjPtLvWE1E8S",
        "colab_type": "code",
        "outputId": "fde23fb1-f454-40ab-8a9f-ad28e80ea685",
        "colab": {
          "base_uri": "https://localhost:8080/",
          "height": 51
        }
      },
      "source": [
        "def doc_features(doc):\n",
        "    #HTML & @ \n",
        "    pattern = r'(http\\S+)|(@\\S+)|(#\\S+)'\n",
        "    documents = re.sub(pattern, ' ', doc)\n",
        "\n",
        "    \n",
        "    #To lower case & breakdown words\n",
        "    words = documents.lower().split()\n",
        "\n",
        " \n",
        "    #Stemmer & Return\n",
        "    features = []\n",
        "    stemmer = WordNetLemmatizer()\n",
        "    for word in words:\n",
        "        word = re.sub('[^a-zA-Z]', ' ',word)\n",
        "        features.append(stemmer.lemmatize(word))\n",
        "        \n",
        "    #remove blank    \n",
        "    while(\"\" in features) : \n",
        "        features.remove(\"\") \n",
        "        \n",
        "    return(features)\n",
        "    \n",
        "def text_cleaner(text):\n",
        "    clean_text = []\n",
        "    for i in text:\n",
        "        clean_text.append(' '.join(doc_features(i)))\n",
        "    \n",
        "    return clean_text\n",
        "\n",
        "\n",
        "df['text'] = text_cleaner(df['text']);\n",
        "df['description'] = text_cleaner(df['description']);\n",
        "\n",
        "\n",
        "#shuffle again\n",
        "df = shuffle(df, random_state= 100)\n",
        "df.reset_index(drop=True, inplace= True)\n",
        "m2_df_level0 = df[['text', 'description', 'emoji', 'gender']]\n",
        "\n",
        "#set 75% train & 25% hideout\n",
        "\n",
        "trainindex = int(len(m2_df_level0)*0.8)-1\n",
        "hideoutindex = trainindex + 1\n",
        "\n",
        "print(trainindex, hideoutindex)\n",
        "\n",
        "m2_df_level0_train = m2_df_level0[['text','description', 'emoji', 'gender']].loc[:trainindex]\n",
        "m2_df_level0_hideout = m2_df_level0[['text','description', 'emoji', 'gender']].loc[hideoutindex:]\n",
        "\n",
        "print (m2_df_level0_train.shape, m2_df_level0_hideout.shape)"
      ],
      "execution_count": 9,
      "outputs": [
        {
          "output_type": "stream",
          "text": [
            "1622 1623\n",
            "(1623, 4) (406, 4)\n"
          ],
          "name": "stdout"
        }
      ]
    },
    {
      "cell_type": "code",
      "metadata": {
        "id": "-FFufXmhsOAH",
        "colab_type": "code",
        "outputId": "5b0be0e2-6a9e-4459-b88e-f8dc856c2838",
        "colab": {
          "base_uri": "https://localhost:8080/",
          "height": 204
        }
      },
      "source": [
        "m2_df_level0_train.head()"
      ],
      "execution_count": 10,
      "outputs": [
        {
          "output_type": "execute_result",
          "data": {
            "text/html": [
              "<div>\n",
              "<style scoped>\n",
              "    .dataframe tbody tr th:only-of-type {\n",
              "        vertical-align: middle;\n",
              "    }\n",
              "\n",
              "    .dataframe tbody tr th {\n",
              "        vertical-align: top;\n",
              "    }\n",
              "\n",
              "    .dataframe thead th {\n",
              "        text-align: right;\n",
              "    }\n",
              "</style>\n",
              "<table border=\"1\" class=\"dataframe\">\n",
              "  <thead>\n",
              "    <tr style=\"text-align: right;\">\n",
              "      <th></th>\n",
              "      <th>text</th>\n",
              "      <th>description</th>\n",
              "      <th>emoji</th>\n",
              "      <th>gender</th>\n",
              "    </tr>\n",
              "  </thead>\n",
              "  <tbody>\n",
              "    <tr>\n",
              "      <th>0</th>\n",
              "      <td>but me putting on acrylic nail dressed normally a me  or doing fantasy cosplays  regular tv show cosplays  etc  a</td>\n",
              "      <td>jeremy     he they   your trans    disabled cat dad who never ha enough coffee  writer  knitter  cat foster    wiccan  an angry little sager</td>\n",
              "      <td>5</td>\n",
              "      <td>1</td>\n",
              "    </tr>\n",
              "    <tr>\n",
              "      <th>1</th>\n",
              "      <td>he so pretty in it it s about the thick old hollywood style makeup</td>\n",
              "      <td>him              creative writer  the world is good and we belong here  evil twink arm candy   check my carrd for fandoms  pfp</td>\n",
              "      <td>3</td>\n",
              "      <td>1</td>\n",
              "    </tr>\n",
              "    <tr>\n",
              "      <th>2</th>\n",
              "      <td>you and   it s not my favorite movie ever but def one of our mutual favorite lines  which</td>\n",
              "      <td>dog lover hater  beach native attorney   i also draw   things</td>\n",
              "      <td>9</td>\n",
              "      <td>0</td>\n",
              "    </tr>\n",
              "    <tr>\n",
              "      <th>3</th>\n",
              "      <td>check out my broadcast from my playstation   live at</td>\n",
              "      <td>year old  psn  llpilsify   sf pf for</td>\n",
              "      <td>0</td>\n",
              "      <td>1</td>\n",
              "    </tr>\n",
              "    <tr>\n",
              "      <th>4</th>\n",
              "      <td>all of the above  he s also an obvious drug user when you watch him on tv  why ca</td>\n",
              "      <td>american immigrant  but always a scot  army wife  mother  dog lover  go joe biden  jaime harrison  joe cunningham</td>\n",
              "      <td>0</td>\n",
              "      <td>0</td>\n",
              "    </tr>\n",
              "  </tbody>\n",
              "</table>\n",
              "</div>"
            ],
            "text/plain": [
              "                                                                                                                 text  ... gender\n",
              "0  but me putting on acrylic nail dressed normally a me  or doing fantasy cosplays  regular tv show cosplays  etc  a   ...      1\n",
              "1                                              he so pretty in it it s about the thick old hollywood style makeup      ...      1\n",
              "2                          you and   it s not my favorite movie ever but def one of our mutual favorite lines  which   ...      0\n",
              "3                                                                check out my broadcast from my playstation   live at  ...      1\n",
              "4                                  all of the above  he s also an obvious drug user when you watch him on tv  why ca   ...      0\n",
              "\n",
              "[5 rows x 4 columns]"
            ]
          },
          "metadata": {
            "tags": []
          },
          "execution_count": 10
        }
      ]
    },
    {
      "cell_type": "code",
      "metadata": {
        "id": "Ew56qef43WAN",
        "colab_type": "code",
        "colab": {}
      },
      "source": [
        "#BERT\n",
        "def text_vec_convert2(X_train, X_test):\n",
        "    #vectorizer = CountVectorizer(ngram_range = (1,1))\n",
        "    #X_train = vectorizer.fit_transform(X_train)\n",
        "    #X_test = vectorizer.transform(X_test)\n",
        "    \n",
        "    model_class, tokenizer_class, pretrained_weights = (ppb.DistilBertModel, ppb.DistilBertTokenizer, \n",
        "                                                    'distilbert-base-uncased')\n",
        "    tokenizer = tokenizer_class.from_pretrained(pretrained_weights)\n",
        "    model = model_class.from_pretrained(pretrained_weights)\n",
        "    \n",
        "    tokenized_train = X_train.apply((lambda x: tokenizer.encode(x, add_special_tokens=True)))\n",
        "    tokenized_test = X_test.apply((lambda x: tokenizer.encode(x, add_special_tokens=True)))\n",
        "    \n",
        "    \n",
        "    padded_train = go_padded(tokenized_train)\n",
        "    padded_test = go_padded(tokenized_test)\n",
        "    \n",
        "    features_train = transform(padded_train, model)\n",
        "    features_test = transform(padded_test, model)\n",
        "   \n",
        "    return(features_train, features_test)\n",
        "    \n",
        "def go_padded(token):\n",
        "    max_len = 0\n",
        "    \n",
        "    for i in token.values:\n",
        "        if len(i) > max_len:\n",
        "            max_len = len(i)\n",
        "    \n",
        "    padded = np.array([i + [0]*(max_len-len(i)) for i in token.values])\n",
        "    return padded\n",
        "\n",
        "def transform(padded, model):\n",
        "    input_ids = torch.tensor(np.array(padded))\n",
        "    with torch.no_grad():\n",
        "        last_hidden_states = model(input_ids)  \n",
        "    \n",
        "    attention_mask = np.where(padded != 0, 1, 0)\n",
        "    attention_mask.shape    \n",
        "    input_ids = torch.tensor(padded)  \n",
        "    attention_mask = torch.tensor(attention_mask)\n",
        "    \n",
        "    with torch.no_grad():\n",
        "        last_hidden_states = model(input_ids, attention_mask=attention_mask)    \n",
        "    features = last_hidden_states[0][:,0,:].numpy()    \n",
        "    \n",
        "    return features\n",
        "#BERT_______END\n",
        "\n",
        "def m2_lv0_modeling(X_train, y_train, X_column):\n",
        "    \n",
        "    X_sub_train, X_sub_test, y_sub_train, y_sub_test = train_test_split(X_train, y_train,\n",
        "                                                                        test_size=0.50, random_state=100)\n",
        "    estimators=[\n",
        "        ('logistic',LogisticRegression(solver='liblinear',penalty='l2')),\n",
        "        ('lasso',LogisticRegression(solver='liblinear',penalty='l1')),\n",
        "        ('elasticnet',SGDClassifier(loss='log', penalty='elasticnet')),\n",
        "        ('random_forest',RandomForestClassifier()),\n",
        "        ('adaBoost', AdaBoostClassifier()),\n",
        "        ('Grbf', GaussianProcessClassifier(1.0 * RBF(1.0))),\n",
        "        ('deep_nn',MLPClassifier()),\n",
        "        #('knn',KNeighborsClassifier(n_neighbors=5,weights='distance',algorithm='auto')),\n",
        "        ('GNB', GaussianNB())\n",
        "        ]\n",
        "    \n",
        "    pipes=[]\n",
        "    model_name = []\n",
        "    pred_sub_df = pd.DataFrame({'clf_name':[], 'prob_male':[]})\n",
        "    for model in estimators:\n",
        "        pipe=Pipeline(steps=[(model)])\n",
        "        pipe.fit(X_sub_train,y_sub_train)\n",
        "        \n",
        "        print(model[0], 'accuracy:', pipe.score(X_sub_test, y_sub_test))\n",
        "        pred_sub = pipe.predict_proba(X_sub_test)\n",
        "        pred_sub_df_temp = pd.DataFrame({'clf_name': X_column + '_' + model[0], \n",
        "                                         'prob_male':pred_sub[m, 1]} for m in range(len(pred_sub)))\n",
        "        pred_sub_df = pred_sub_df.append(pred_sub_df_temp, sort= False)\n",
        "        \n",
        "        pipes.append(pipe)\n",
        "        model_name.append(model[0])\n",
        "     \n",
        "    #return trained classfiers\n",
        "    return pipes, model_name, pred_sub_df, y_sub_test\n",
        "\n",
        "\n",
        "def m2_lv0_wrap(X_train, X_test, y_train):\n",
        "    \n",
        "    #take column name\n",
        "    X_column = X_train.name\n",
        "    \n",
        "    #text vectorize\n",
        "    X_train, X_test = text_vec_convert2(X_train, X_test)\n",
        "    \n",
        "    #modeling & get clf\n",
        "    clfs, clf_names, pred_sub_df, y_sub_test = m2_lv0_modeling(X_train, y_train, X_column)\n",
        "    \n",
        "    #apply X_test to clf for prediction\n",
        "    prediction_df = pd.DataFrame({'clf_name':[], 'prob_male':[]})\n",
        "    for i , j in zip(clfs, clf_names):\n",
        "        pred = i.predict_proba(X_test)\n",
        "        prediction_df_temp = pd.DataFrame({'clf_name': X_column + '_' + j,\n",
        "                                           'prob_male':pred[m, 1] } for m in range(len(pred)))\n",
        "        prediction_df = prediction_df.append(prediction_df_temp, sort= False)\n",
        "    #pivot prediction output\n",
        "    prediction_df = prediction_df.pivot(index= None, columns= 'clf_name', values= 'prob_male')\n",
        "    \n",
        "    \n",
        "    return prediction_df, pred_sub_df, y_sub_test\n",
        "        \n",
        "    "
      ],
      "execution_count": 0,
      "outputs": []
    },
    {
      "cell_type": "code",
      "metadata": {
        "id": "cBpKm2lX3cN3",
        "colab_type": "code",
        "outputId": "506ca16b-d0ed-481b-a6ca-d677d02287df",
        "colab": {
          "base_uri": "https://localhost:8080/",
          "height": 524,
          "referenced_widgets": [
            "132dc3b64ecd4d2a8c1212e34aecb262",
            "de9b9247b36e43158f7fc41fc3c1db8f",
            "841bb657d0e04436adb713d8d70f25bc",
            "7c96b867ab2a458db64040dc64224e07",
            "5298e5cdb05b4e33a35eaa2d9dd0b255",
            "2e5d93620dc0429eb0207dae189b7f53",
            "86089267b8fb4a18a2f1d4c84b7b3c50",
            "5901e887735042e1b3a7bc575c2521ea",
            "4ca4ee8cc703493694f0f187f653e7f4",
            "bd6784e2d0524711846961365b9a8ce0",
            "d06ccc4570da46b5b7d57ab9c4dff1db",
            "fbcac4cca55a4ad4b664ae72a4b1e212",
            "947ae4ce39fa4b6fa9494a7dd507fdaf",
            "8977ca9d1de24e47a05a91cb699f654e",
            "3d21608a627b40f595fead8a2c3ad971",
            "52ac9b8f8f914be7a9d73da037ee36b5",
            "4232b8876c114bbf8e111a97028af317",
            "ecee70b9788f4ae6a40bdfb84f254302",
            "37320081df104f719aa47bfd9f9ba232",
            "5ec14ebd771841a7a4b450b62d8130ca",
            "3b7c1cd5f1304a6abb11dfe97fee9808",
            "3da3856b1c664e57906eca80dc9f160b",
            "d7da420d173e43628203edff44c9475e",
            "4bd04fa121854f8c991e2927299fa7a5"
          ]
        }
      },
      "source": [
        "# y_test remains secret to clfs\n",
        "m2_prediction_text, m2_subpred_text, y_sub_test = m2_lv0_wrap(m2_df_level0_train['text'], \n",
        "                                                                     m2_df_level0_hideout['text'],\n",
        "                                                                     m2_df_level0_train['gender'])\n",
        "\n",
        "m2_prediction_desc, m2_subpred_desc, y_sub_test = m2_lv0_wrap(m2_df_level0_train['description'], \n",
        "                                                                     m2_df_level0_hideout['description'],\n",
        "                                                                     m2_df_level0_train['gender'])"
      ],
      "execution_count": 12,
      "outputs": [
        {
          "output_type": "display_data",
          "data": {
            "application/vnd.jupyter.widget-view+json": {
              "model_id": "132dc3b64ecd4d2a8c1212e34aecb262",
              "version_minor": 0,
              "version_major": 2
            },
            "text/plain": [
              "HBox(children=(IntProgress(value=0, description='Downloading', max=231508, style=ProgressStyle(description_wid…"
            ]
          },
          "metadata": {
            "tags": []
          }
        },
        {
          "output_type": "stream",
          "text": [
            "\n"
          ],
          "name": "stdout"
        },
        {
          "output_type": "display_data",
          "data": {
            "application/vnd.jupyter.widget-view+json": {
              "model_id": "4ca4ee8cc703493694f0f187f653e7f4",
              "version_minor": 0,
              "version_major": 2
            },
            "text/plain": [
              "HBox(children=(IntProgress(value=0, description='Downloading', max=442, style=ProgressStyle(description_width=…"
            ]
          },
          "metadata": {
            "tags": []
          }
        },
        {
          "output_type": "stream",
          "text": [
            "\n"
          ],
          "name": "stdout"
        },
        {
          "output_type": "display_data",
          "data": {
            "application/vnd.jupyter.widget-view+json": {
              "model_id": "4232b8876c114bbf8e111a97028af317",
              "version_minor": 0,
              "version_major": 2
            },
            "text/plain": [
              "HBox(children=(IntProgress(value=0, description='Downloading', max=267967963, style=ProgressStyle(description_…"
            ]
          },
          "metadata": {
            "tags": []
          }
        },
        {
          "output_type": "stream",
          "text": [
            "\n",
            "logistic accuracy: 0.5344827586206896\n",
            "lasso accuracy: 0.5652709359605911\n",
            "elasticnet accuracy: 0.5258620689655172\n",
            "random_forest accuracy: 0.5874384236453202\n",
            "adaBoost accuracy: 0.5714285714285714\n",
            "Grbf accuracy: 0.5307881773399015\n"
          ],
          "name": "stdout"
        },
        {
          "output_type": "stream",
          "text": [
            "/usr/local/lib/python3.6/dist-packages/sklearn/neural_network/_multilayer_perceptron.py:571: ConvergenceWarning: Stochastic Optimizer: Maximum iterations (200) reached and the optimization hasn't converged yet.\n",
            "  % self.max_iter, ConvergenceWarning)\n"
          ],
          "name": "stderr"
        },
        {
          "output_type": "stream",
          "text": [
            "deep_nn accuracy: 0.5307881773399015\n",
            "GNB accuracy: 0.6083743842364532\n",
            "logistic accuracy: 0.8596059113300493\n",
            "lasso accuracy: 0.8435960591133005\n",
            "elasticnet accuracy: 0.8054187192118226\n",
            "random_forest accuracy: 0.7795566502463054\n",
            "adaBoost accuracy: 0.7733990147783252\n",
            "Grbf accuracy: 0.4938423645320197\n"
          ],
          "name": "stdout"
        },
        {
          "output_type": "stream",
          "text": [
            "/usr/local/lib/python3.6/dist-packages/sklearn/neural_network/_multilayer_perceptron.py:571: ConvergenceWarning: Stochastic Optimizer: Maximum iterations (200) reached and the optimization hasn't converged yet.\n",
            "  % self.max_iter, ConvergenceWarning)\n"
          ],
          "name": "stderr"
        },
        {
          "output_type": "stream",
          "text": [
            "deep_nn accuracy: 0.8460591133004927\n",
            "GNB accuracy: 0.6761083743842364\n"
          ],
          "name": "stdout"
        }
      ]
    },
    {
      "cell_type": "code",
      "metadata": {
        "id": "Hg1jrfuA3eSg",
        "colab_type": "code",
        "outputId": "b7348994-ceca-4b9b-e93f-d9e44a8bbda9",
        "colab": {
          "base_uri": "https://localhost:8080/",
          "height": 122
        }
      },
      "source": [
        "# Gathering Train set from inner loop\n",
        "\n",
        "m2_subpred_text = m2_subpred_text.pivot(index= None, columns= 'clf_name', values= 'prob_male')\n",
        "m2_subpred_desc = m2_subpred_desc.pivot(index= None, columns= 'clf_name', values= 'prob_male')\n",
        "\n",
        "y_sub_test.reset_index(drop= True, inplace= True)\n",
        "m2_df_level1_train = pd.concat([m2_subpred_text, m2_subpred_desc, y_sub_test], axis= 1)\n",
        "pd.set_option('display.max_colwidth', -1)\n",
        "m2_df_level1_train.shape\n",
        "\n",
        "# Gathering Valdate set from Hideout\n",
        "\n",
        "m2_df_level0_hideout['gender'].reset_index(drop= True, inplace= True)\n",
        "m2_df_level1_val = pd.concat([m2_prediction_text, m2_prediction_desc, m2_df_level0_hideout['gender']], axis= 1)\n",
        "pd.set_option('display.max_colwidth', -1)\n",
        "m2_df_level1_val.shape"
      ],
      "execution_count": 13,
      "outputs": [
        {
          "output_type": "stream",
          "text": [
            "/usr/local/lib/python3.6/dist-packages/ipykernel_launcher.py:7: FutureWarning: Passing a negative integer is deprecated in version 1.0 and will not be supported in future version. Instead, use None to not limit the column width.\n",
            "  import sys\n",
            "/usr/local/lib/python3.6/dist-packages/ipykernel_launcher.py:14: FutureWarning: Passing a negative integer is deprecated in version 1.0 and will not be supported in future version. Instead, use None to not limit the column width.\n",
            "  \n"
          ],
          "name": "stderr"
        },
        {
          "output_type": "execute_result",
          "data": {
            "text/plain": [
              "(406, 17)"
            ]
          },
          "metadata": {
            "tags": []
          },
          "execution_count": 13
        }
      ]
    },
    {
      "cell_type": "code",
      "metadata": {
        "id": "8fGF-smr3eXv",
        "colab_type": "code",
        "outputId": "18ee9828-7ab3-40e1-8370-9d16a26149b7",
        "colab": {
          "base_uri": "https://localhost:8080/",
          "height": 34
        }
      },
      "source": [
        "m2_X_train = m2_df_level1_train.loc[:, m2_df_level1_val.columns != 'gender']\n",
        "m2_y_train = m2_df_level1_train['gender']\n",
        "\n",
        "m2_X_val = m2_df_level1_val.loc[:, m2_df_level1_val.columns != 'gender'] \n",
        "m2_y_val = m2_df_level1_val['gender']\n",
        "\n",
        "print(m2_X_train.shape)"
      ],
      "execution_count": 14,
      "outputs": [
        {
          "output_type": "stream",
          "text": [
            "(812, 16)\n"
          ],
          "name": "stdout"
        }
      ]
    },
    {
      "cell_type": "code",
      "metadata": {
        "id": "k6pUGtbz3ht3",
        "colab_type": "code",
        "colab": {}
      },
      "source": [
        "def m2_simple_lv1(X_train, X_test, y_train, y_test):\n",
        "\n",
        "    estimators=[\n",
        "        ('logistic',LogisticRegression(solver='liblinear',penalty='l2')),\n",
        "        ('lasso',LogisticRegression(solver='liblinear',penalty='l1')),\n",
        "        ('elasticnet',SGDClassifier(loss='log', penalty='elasticnet')),\n",
        "        ('random_forest',RandomForestClassifier()),\n",
        "        ( 'adaBoost', AdaBoostClassifier()),\n",
        "        ('SVCrbf', SVC(kernel= 'rbf')),\n",
        "        ('SVClinear',SVC(kernel=\"linear\")),\n",
        "        ('LSVC', LinearSVC()),\n",
        "        ('Grbf', GaussianProcessClassifier(1.0 * RBF(1.0))),\n",
        "        ('deep_nn',MLPClassifier()),\n",
        "        ('knn',KNeighborsClassifier(n_neighbors=5,weights='distance',algorithm='auto')),\n",
        "        ('GNB', GaussianNB())\n",
        "        ]\n",
        "    \n",
        "    scores=[]\n",
        "    for model in estimators:\n",
        "        pipe=Pipeline(steps=[(model)])\n",
        "        pipe.fit(X_train, y_train)\n",
        "        score = pipe.score(X_test, y_test)\n",
        "        scores.append([score, model])\n",
        "        \n",
        "        \n",
        "    return (scores)\n",
        "\n",
        "\n",
        "  "
      ],
      "execution_count": 0,
      "outputs": []
    },
    {
      "cell_type": "code",
      "metadata": {
        "id": "HRqODbJF3jGz",
        "colab_type": "code",
        "outputId": "b7333217-2a0f-4176-adef-80905a4285a0",
        "colab": {
          "base_uri": "https://localhost:8080/",
          "height": 1000
        }
      },
      "source": [
        "m2_scores = m2_simple_lv1(m2_X_train, m2_X_val, m2_y_train, m2_y_val)\n",
        "m2_scores"
      ],
      "execution_count": 16,
      "outputs": [
        {
          "output_type": "execute_result",
          "data": {
            "text/plain": [
              "[[0.8522167487684729,\n",
              "  ('logistic',\n",
              "   LogisticRegression(C=1.0, class_weight=None, dual=False, fit_intercept=True,\n",
              "                      intercept_scaling=1, l1_ratio=None, max_iter=100,\n",
              "                      multi_class='auto', n_jobs=None, penalty='l2',\n",
              "                      random_state=None, solver='liblinear', tol=0.0001, verbose=0,\n",
              "                      warm_start=False))],\n",
              " [0.8694581280788177,\n",
              "  ('lasso',\n",
              "   LogisticRegression(C=1.0, class_weight=None, dual=False, fit_intercept=True,\n",
              "                      intercept_scaling=1, l1_ratio=None, max_iter=100,\n",
              "                      multi_class='auto', n_jobs=None, penalty='l1',\n",
              "                      random_state=None, solver='liblinear', tol=0.0001, verbose=0,\n",
              "                      warm_start=False))],\n",
              " [0.8399014778325123,\n",
              "  ('elasticnet', SGDClassifier(alpha=0.0001, average=False, class_weight=None,\n",
              "                 early_stopping=False, epsilon=0.1, eta0=0.0, fit_intercept=True,\n",
              "                 l1_ratio=0.15, learning_rate='optimal', loss='log', max_iter=1000,\n",
              "                 n_iter_no_change=5, n_jobs=None, penalty='elasticnet',\n",
              "                 power_t=0.5, random_state=None, shuffle=True, tol=0.001,\n",
              "                 validation_fraction=0.1, verbose=0, warm_start=False))],\n",
              " [0.854679802955665,\n",
              "  ('random_forest',\n",
              "   RandomForestClassifier(bootstrap=True, ccp_alpha=0.0, class_weight=None,\n",
              "                          criterion='gini', max_depth=None, max_features='auto',\n",
              "                          max_leaf_nodes=None, max_samples=None,\n",
              "                          min_impurity_decrease=0.0, min_impurity_split=None,\n",
              "                          min_samples_leaf=1, min_samples_split=2,\n",
              "                          min_weight_fraction_leaf=0.0, n_estimators=100,\n",
              "                          n_jobs=None, oob_score=False, random_state=None,\n",
              "                          verbose=0, warm_start=False))],\n",
              " [0.8201970443349754,\n",
              "  ('adaBoost',\n",
              "   AdaBoostClassifier(algorithm='SAMME.R', base_estimator=None, learning_rate=1.0,\n",
              "                      n_estimators=50, random_state=None))],\n",
              " [0.8497536945812808,\n",
              "  ('SVCrbf',\n",
              "   SVC(C=1.0, break_ties=False, cache_size=200, class_weight=None, coef0=0.0,\n",
              "       decision_function_shape='ovr', degree=3, gamma='scale', kernel='rbf',\n",
              "       max_iter=-1, probability=False, random_state=None, shrinking=True,\n",
              "       tol=0.001, verbose=False))],\n",
              " [0.8522167487684729,\n",
              "  ('SVClinear',\n",
              "   SVC(C=1.0, break_ties=False, cache_size=200, class_weight=None, coef0=0.0,\n",
              "       decision_function_shape='ovr', degree=3, gamma='scale', kernel='linear',\n",
              "       max_iter=-1, probability=False, random_state=None, shrinking=True,\n",
              "       tol=0.001, verbose=False))],\n",
              " [0.8596059113300493,\n",
              "  ('LSVC', LinearSVC(C=1.0, class_weight=None, dual=True, fit_intercept=True,\n",
              "             intercept_scaling=1, loss='squared_hinge', max_iter=1000,\n",
              "             multi_class='ovr', penalty='l2', random_state=None, tol=0.0001,\n",
              "             verbose=0))],\n",
              " [0.8645320197044335,\n",
              "  ('Grbf',\n",
              "   GaussianProcessClassifier(copy_X_train=True, kernel=1**2 * RBF(length_scale=1),\n",
              "                             max_iter_predict=100, multi_class='one_vs_rest',\n",
              "                             n_jobs=None, n_restarts_optimizer=0,\n",
              "                             optimizer='fmin_l_bfgs_b', random_state=None,\n",
              "                             warm_start=False))],\n",
              " [0.8399014778325123,\n",
              "  ('deep_nn',\n",
              "   MLPClassifier(activation='relu', alpha=0.0001, batch_size='auto', beta_1=0.9,\n",
              "                 beta_2=0.999, early_stopping=False, epsilon=1e-08,\n",
              "                 hidden_layer_sizes=(100,), learning_rate='constant',\n",
              "                 learning_rate_init=0.001, max_fun=15000, max_iter=200,\n",
              "                 momentum=0.9, n_iter_no_change=10, nesterovs_momentum=True,\n",
              "                 power_t=0.5, random_state=None, shuffle=True, solver='adam',\n",
              "                 tol=0.0001, validation_fraction=0.1, verbose=False,\n",
              "                 warm_start=False))],\n",
              " [0.8374384236453202,\n",
              "  ('knn',\n",
              "   KNeighborsClassifier(algorithm='auto', leaf_size=30, metric='minkowski',\n",
              "                        metric_params=None, n_jobs=None, n_neighbors=5, p=2,\n",
              "                        weights='distance'))],\n",
              " [0.8620689655172413, ('GNB', GaussianNB(priors=None, var_smoothing=1e-09))]]"
            ]
          },
          "metadata": {
            "tags": []
          },
          "execution_count": 16
        }
      ]
    },
    {
      "cell_type": "code",
      "metadata": {
        "id": "39phfG70W3ax",
        "colab_type": "code",
        "colab": {}
      },
      "source": [
        "from sklearn.metrics import multilabel_confusion_matrix\n",
        "import sklearn.metrics as skm\n",
        "\n",
        "import seaborn as sn\n",
        "from sklearn.metrics import roc_curve, roc_auc_score\n",
        "import matplotlib.pyplot as plt\n",
        "%matplotlib inline\n",
        "\n",
        "def ROCChart(clf, y_true, y_proba):\n",
        "  \n",
        "  fpr, tpr, _ = roc_curve(y_true,  y_proba, pos_label= '1')\n",
        "  auc = roc_auc_score(y_true, y_proba)\n",
        "  result_table = pd.DataFrame(columns=['classifiers', 'fpr','tpr','auc'])\n",
        "  result_table = result_table.append({'classifiers':clf.__class__.__name__ ,\n",
        "                                      'fpr':fpr, \n",
        "                                      'tpr':tpr, \n",
        "                                      'auc':auc}, ignore_index=True)\n",
        "  result_table.set_index('classifiers', inplace=True)\n",
        "  \n",
        "  fig = plt.figure(figsize=(8,6))\n",
        "  \n",
        "  for i in result_table.index:\n",
        "    plt.plot(result_table.loc[i]['fpr'], \n",
        "             result_table.loc[i]['tpr'], \n",
        "             label=\"{}, AUC={:.3f}\".format(i, result_table.loc[i]['auc']))\n",
        "    \n",
        "    plt.plot([0,1], [0,1], color='orange', linestyle='--')\n",
        "    \n",
        "    plt.xticks(np.arange(0.0, 1.1, step=0.1))\n",
        "    plt.xlabel(\"Flase Positive Rate\", fontsize=15)\n",
        "    \n",
        "    plt.yticks(np.arange(0.0, 1.1, step=0.1))\n",
        "    plt.ylabel(\"True Positive Rate\", fontsize=15)\n",
        "    \n",
        "    plt.title('ROC Curve Analysis', fontweight='bold', fontsize=15)\n",
        "    plt.legend(prop={'size':13}, loc='lower right')\n",
        "    plt.show()"
      ],
      "execution_count": 0,
      "outputs": []
    },
    {
      "cell_type": "code",
      "metadata": {
        "id": "Obue5KQhmdFz",
        "colab_type": "code",
        "outputId": "f4e3cff0-5d94-49e2-febe-220736cd6b10",
        "colab": {
          "base_uri": "https://localhost:8080/",
          "height": 51
        }
      },
      "source": [
        "\n",
        "parameters = {'criterion': ['entropy', 'gini'], 'n_estimators': [100, 1000, 2000], 'oob_score': ['True', 'False']}\n",
        "grid_search = GridSearchCV(RandomForestClassifier(random_state= 24), parameters, cv=5, return_train_score=True)\n",
        "grid_search.fit(m2_X_train, m2_y_train)\n",
        "\n",
        "\n",
        "print('best parameters: ', grid_search.best_params_)\n",
        "print('best scrores: ', grid_search.best_score_)"
      ],
      "execution_count": 21,
      "outputs": [
        {
          "output_type": "stream",
          "text": [
            "best parameters:  {'criterion': 'entropy', 'n_estimators': 100, 'oob_score': 'True'}\n",
            "best scrores:  0.8645232144209649\n"
          ],
          "name": "stdout"
        }
      ]
    },
    {
      "cell_type": "code",
      "metadata": {
        "id": "gcZgliXT6ooD",
        "colab_type": "code",
        "outputId": "1236d92d-2ff2-4bed-fec9-a3266c72de64",
        "colab": {
          "base_uri": "https://localhost:8080/",
          "height": 564
        }
      },
      "source": [
        "\n",
        "clf = RandomForestClassifier(random_state= 100, criterion= 'entropy', n_estimators= 100, oob_score= True) \n",
        "clf.fit(m2_X_train, m2_y_train)\n",
        "clf.score(m2_X_val, m2_y_val)\n",
        "\n",
        "y_pred = clf.predict(m2_X_val)\n",
        "y_proba = clf.predict_proba(m2_X_val)[::,1]\n",
        "y_true = m2_y_val\n",
        "\n",
        "print( skm.classification_report(y_true,y_pred))\n",
        "ROCChart(clf, y_true, y_proba)"
      ],
      "execution_count": 31,
      "outputs": [
        {
          "output_type": "stream",
          "text": [
            "              precision    recall  f1-score   support\n",
            "\n",
            "           0       0.89      0.81      0.85       196\n",
            "           1       0.84      0.90      0.87       210\n",
            "\n",
            "    accuracy                           0.86       406\n",
            "   macro avg       0.86      0.86      0.86       406\n",
            "weighted avg       0.86      0.86      0.86       406\n",
            "\n"
          ],
          "name": "stdout"
        },
        {
          "output_type": "display_data",
          "data": {
            "image/png": "[encoded data removed]",
            "text/plain": [
              "<Figure size 576x432 with 1 Axes>"
            ]
          },
          "metadata": {
            "tags": [],
            "needs_background": "light"
          }
        }
      ]
    },
    {
      "cell_type": "code",
      "metadata": {
        "id": "eYzvh5dPCsun",
        "colab_type": "code",
        "outputId": "29401e6e-5cb0-40dc-bec3-7567cbb2d4b0",
        "colab": {
          "base_uri": "https://localhost:8080/",
          "height": 51
        }
      },
      "source": [
        "\n",
        "parameters = {'var_smoothing': np.linspace(0.0001, 20, 30)}\n",
        "grid_search = GridSearchCV(GaussianNB(), parameters, cv=5, return_train_score=True)\n",
        "grid_search.fit(m2_X_train, m2_y_train)\n",
        "\n",
        "\n",
        "print('best parameters: ', grid_search.best_params_)\n",
        "print('best scrores: ', grid_search.best_score_)\n",
        "\n",
        "\n",
        "#c= 17.9 penalty l2"
      ],
      "execution_count": 33,
      "outputs": [
        {
          "output_type": "stream",
          "text": [
            "best parameters:  {'var_smoothing': 0.0001}\n",
            "best scrores:  0.8534423994546693\n"
          ],
          "name": "stdout"
        }
      ]
    },
    {
      "cell_type": "code",
      "metadata": {
        "id": "SbMkKtY4C6od",
        "colab_type": "code",
        "outputId": "551b2d61-17b2-4d46-bced-d77eb5343793",
        "colab": {
          "base_uri": "https://localhost:8080/",
          "height": 564
        }
      },
      "source": [
        "clf = GaussianNB(var_smoothing= 1.3794034482758621) \n",
        "clf.fit(m2_X_train, m2_y_train)\n",
        "clf.score(m2_X_val, m2_y_val)\n",
        "\n",
        "y_pred = clf.predict(m2_X_val)\n",
        "y_proba = clf.predict_proba(m2_X_val)[::,1]\n",
        "y_true = m2_y_val\n",
        "\n",
        "print( skm.classification_report(y_true,y_pred))\n",
        "ROCChart(clf, y_true, y_proba)"
      ],
      "execution_count": 34,
      "outputs": [
        {
          "output_type": "stream",
          "text": [
            "              precision    recall  f1-score   support\n",
            "\n",
            "           0       0.85      0.84      0.84       196\n",
            "           1       0.85      0.86      0.85       210\n",
            "\n",
            "    accuracy                           0.85       406\n",
            "   macro avg       0.85      0.85      0.85       406\n",
            "weighted avg       0.85      0.85      0.85       406\n",
            "\n"
          ],
          "name": "stdout"
        },
        {
          "output_type": "display_data",
          "data": {
            "image/png": "[encoded data removed]",
            "text/plain": [
              "<Figure size 576x432 with 1 Axes>"
            ]
          },
          "metadata": {
            "tags": [],
            "needs_background": "light"
          }
        }
      ]
    },
    {
      "cell_type": "code",
      "metadata": {
        "id": "4DfljrsRXT_z",
        "colab_type": "code",
        "colab": {
          "base_uri": "https://localhost:8080/",
          "height": 51
        },
        "outputId": "b8fa844f-178f-41f8-d158-022343c11f9a"
      },
      "source": [
        "parameters = {'alpha': np.linspace(0.0001, 10, 30)}\n",
        "grid_search = GridSearchCV(SGDClassifier(loss= 'modified_huber'), parameters, cv=5, return_train_score=True)\n",
        "grid_search.fit(m2_X_train, m2_y_train)\n",
        "\n",
        "\n",
        "print('best parameters: ', grid_search.best_params_)\n",
        "print('best scrores: ', grid_search.best_score_)"
      ],
      "execution_count": 35,
      "outputs": [
        {
          "output_type": "stream",
          "text": [
            "best parameters:  {'alpha': 0.3449241379310345}\n",
            "best scrores:  0.8460728622282815\n"
          ],
          "name": "stdout"
        }
      ]
    },
    {
      "cell_type": "code",
      "metadata": {
        "id": "pDyOGwailRZz",
        "colab_type": "code",
        "outputId": "fcc72eb1-fee2-4572-9ce1-3fbfe0d556c7",
        "colab": {
          "base_uri": "https://localhost:8080/",
          "height": 564
        }
      },
      "source": [
        "clf = SGDClassifier(loss= 'modified_huber', alpha= 0.3449241379310345)\n",
        "clf.fit(m2_X_train, m2_y_train)\n",
        "clf.score(m2_X_val, m2_y_val)\n",
        "\n",
        "\n",
        "y_pred = clf.predict(m2_X_val)\n",
        "y_proba = clf.predict_proba(m2_X_val)[::,1]\n",
        "y_true = m2_y_val\n",
        "\n",
        "print( skm.classification_report(y_true,y_pred))\n",
        "ROCChart(clf, y_true, y_proba)"
      ],
      "execution_count": 36,
      "outputs": [
        {
          "output_type": "stream",
          "text": [
            "              precision    recall  f1-score   support\n",
            "\n",
            "           0       0.85      0.84      0.84       196\n",
            "           1       0.85      0.86      0.86       210\n",
            "\n",
            "    accuracy                           0.85       406\n",
            "   macro avg       0.85      0.85      0.85       406\n",
            "weighted avg       0.85      0.85      0.85       406\n",
            "\n"
          ],
          "name": "stdout"
        },
        {
          "output_type": "display_data",
          "data": {
            "image/png": "[encoded data removed]",
            "text/plain": [
              "<Figure size 576x432 with 1 Axes>"
            ]
          },
          "metadata": {
            "tags": [],
            "needs_background": "light"
          }
        }
      ]
    }
  ]
}
