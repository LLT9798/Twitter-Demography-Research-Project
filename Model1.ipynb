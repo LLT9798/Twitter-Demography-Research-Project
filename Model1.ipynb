{
  "nbformat": 4,
  "nbformat_minor": 0,
  "metadata": {
    "colab": {
      "name": "Model1BERT.ipynb",
      "provenance": [],
      "collapsed_sections": [],
      "machine_shape": "hm",
      "authorship_tag": "ABX9TyMZkpy3Qpw61l2Jc8CYQFe6"
    },
    "kernelspec": {
      "name": "python3",
      "display_name": "Python 3"
    },
    "accelerator": "TPU",
    "widgets": {
      "application/vnd.jupyter.widget-state+json": {
        "4f89b8d2d9f64295bc8d0cf9b5e794e6": {
          "model_module": "@jupyter-widgets/controls",
          "model_name": "HBoxModel",
          "state": {
            "_view_name": "HBoxView",
            "_dom_classes": [],
            "_model_name": "HBoxModel",
            "_view_module": "@jupyter-widgets/controls",
            "_model_module_version": "1.5.0",
            "_view_count": null,
            "_view_module_version": "1.5.0",
            "box_style": "",
            "layout": "IPY_MODEL_b439eb07049e4a0c83d1b0766747434a",
            "_model_module": "@jupyter-widgets/controls",
            "children": [
              "IPY_MODEL_5c5ff724769a4e62836d1ce188749020",
              "IPY_MODEL_c26b4c5e2011417fbd043e197fbc82af"
            ]
          }
        },
        "b439eb07049e4a0c83d1b0766747434a": {
          "model_module": "@jupyter-widgets/base",
          "model_name": "LayoutModel",
          "state": {
            "_view_name": "LayoutView",
            "grid_template_rows": null,
            "right": null,
            "justify_content": null,
            "_view_module": "@jupyter-widgets/base",
            "overflow": null,
            "_model_module_version": "1.2.0",
            "_view_count": null,
            "flex_flow": null,
            "width": null,
            "min_width": null,
            "border": null,
            "align_items": null,
            "bottom": null,
            "_model_module": "@jupyter-widgets/base",
            "top": null,
            "grid_column": null,
            "overflow_y": null,
            "overflow_x": null,
            "grid_auto_flow": null,
            "grid_area": null,
            "grid_template_columns": null,
            "flex": null,
            "_model_name": "LayoutModel",
            "justify_items": null,
            "grid_row": null,
            "max_height": null,
            "align_content": null,
            "visibility": null,
            "align_self": null,
            "height": null,
            "min_height": null,
            "padding": null,
            "grid_auto_rows": null,
            "grid_gap": null,
            "max_width": null,
            "order": null,
            "_view_module_version": "1.2.0",
            "grid_template_areas": null,
            "object_position": null,
            "object_fit": null,
            "grid_auto_columns": null,
            "margin": null,
            "display": null,
            "left": null
          }
        },
        "5c5ff724769a4e62836d1ce188749020": {
          "model_module": "@jupyter-widgets/controls",
          "model_name": "IntProgressModel",
          "state": {
            "_view_name": "ProgressView",
            "style": "IPY_MODEL_12dd805bc65748e3b9ec5aa4a06bf034",
            "_dom_classes": [],
            "description": "Downloading: 100%",
            "_model_name": "IntProgressModel",
            "bar_style": "success",
            "max": 231508,
            "_view_module": "@jupyter-widgets/controls",
            "_model_module_version": "1.5.0",
            "value": 231508,
            "_view_count": null,
            "_view_module_version": "1.5.0",
            "orientation": "horizontal",
            "min": 0,
            "description_tooltip": null,
            "_model_module": "@jupyter-widgets/controls",
            "layout": "IPY_MODEL_aaf68bab9b7a40a4acca9742ff1ba285"
          }
        },
        "c26b4c5e2011417fbd043e197fbc82af": {
          "model_module": "@jupyter-widgets/controls",
          "model_name": "HTMLModel",
          "state": {
            "_view_name": "HTMLView",
            "style": "IPY_MODEL_dfe5c0c46a89418ba09432cea8945683",
            "_dom_classes": [],
            "description": "",
            "_model_name": "HTMLModel",
            "placeholder": "​",
            "_view_module": "@jupyter-widgets/controls",
            "_model_module_version": "1.5.0",
            "value": " 232k/232k [00:00&lt;00:00, 1.79MB/s]",
            "_view_count": null,
            "_view_module_version": "1.5.0",
            "description_tooltip": null,
            "_model_module": "@jupyter-widgets/controls",
            "layout": "IPY_MODEL_705e6fb10bd943528c5f654e5714b5f4"
          }
        },
        "12dd805bc65748e3b9ec5aa4a06bf034": {
          "model_module": "@jupyter-widgets/controls",
          "model_name": "ProgressStyleModel",
          "state": {
            "_view_name": "StyleView",
            "_model_name": "ProgressStyleModel",
            "description_width": "initial",
            "_view_module": "@jupyter-widgets/base",
            "_model_module_version": "1.5.0",
            "_view_count": null,
            "_view_module_version": "1.2.0",
            "bar_color": null,
            "_model_module": "@jupyter-widgets/controls"
          }
        },
        "aaf68bab9b7a40a4acca9742ff1ba285": {
          "model_module": "@jupyter-widgets/base",
          "model_name": "LayoutModel",
          "state": {
            "_view_name": "LayoutView",
            "grid_template_rows": null,
            "right": null,
            "justify_content": null,
            "_view_module": "@jupyter-widgets/base",
            "overflow": null,
            "_model_module_version": "1.2.0",
            "_view_count": null,
            "flex_flow": null,
            "width": null,
            "min_width": null,
            "border": null,
            "align_items": null,
            "bottom": null,
            "_model_module": "@jupyter-widgets/base",
            "top": null,
            "grid_column": null,
            "overflow_y": null,
            "overflow_x": null,
            "grid_auto_flow": null,
            "grid_area": null,
            "grid_template_columns": null,
            "flex": null,
            "_model_name": "LayoutModel",
            "justify_items": null,
            "grid_row": null,
            "max_height": null,
            "align_content": null,
            "visibility": null,
            "align_self": null,
            "height": null,
            "min_height": null,
            "padding": null,
            "grid_auto_rows": null,
            "grid_gap": null,
            "max_width": null,
            "order": null,
            "_view_module_version": "1.2.0",
            "grid_template_areas": null,
            "object_position": null,
            "object_fit": null,
            "grid_auto_columns": null,
            "margin": null,
            "display": null,
            "left": null
          }
        },
        "dfe5c0c46a89418ba09432cea8945683": {
          "model_module": "@jupyter-widgets/controls",
          "model_name": "DescriptionStyleModel",
          "state": {
            "_view_name": "StyleView",
            "_model_name": "DescriptionStyleModel",
            "description_width": "",
            "_view_module": "@jupyter-widgets/base",
            "_model_module_version": "1.5.0",
            "_view_count": null,
            "_view_module_version": "1.2.0",
            "_model_module": "@jupyter-widgets/controls"
          }
        },
        "705e6fb10bd943528c5f654e5714b5f4": {
          "model_module": "@jupyter-widgets/base",
          "model_name": "LayoutModel",
          "state": {
            "_view_name": "LayoutView",
            "grid_template_rows": null,
            "right": null,
            "justify_content": null,
            "_view_module": "@jupyter-widgets/base",
            "overflow": null,
            "_model_module_version": "1.2.0",
            "_view_count": null,
            "flex_flow": null,
            "width": null,
            "min_width": null,
            "border": null,
            "align_items": null,
            "bottom": null,
            "_model_module": "@jupyter-widgets/base",
            "top": null,
            "grid_column": null,
            "overflow_y": null,
            "overflow_x": null,
            "grid_auto_flow": null,
            "grid_area": null,
            "grid_template_columns": null,
            "flex": null,
            "_model_name": "LayoutModel",
            "justify_items": null,
            "grid_row": null,
            "max_height": null,
            "align_content": null,
            "visibility": null,
            "align_self": null,
            "height": null,
            "min_height": null,
            "padding": null,
            "grid_auto_rows": null,
            "grid_gap": null,
            "max_width": null,
            "order": null,
            "_view_module_version": "1.2.0",
            "grid_template_areas": null,
            "object_position": null,
            "object_fit": null,
            "grid_auto_columns": null,
            "margin": null,
            "display": null,
            "left": null
          }
        },
        "a3c284187ffb4ffcaffabd1fa1632d31": {
          "model_module": "@jupyter-widgets/controls",
          "model_name": "HBoxModel",
          "state": {
            "_view_name": "HBoxView",
            "_dom_classes": [],
            "_model_name": "HBoxModel",
            "_view_module": "@jupyter-widgets/controls",
            "_model_module_version": "1.5.0",
            "_view_count": null,
            "_view_module_version": "1.5.0",
            "box_style": "",
            "layout": "IPY_MODEL_e33ad38f331349cf941e799e950b2376",
            "_model_module": "@jupyter-widgets/controls",
            "children": [
              "IPY_MODEL_0012d719838845e3a88f271bab39e1de",
              "IPY_MODEL_08fd5dc41dad4c13909be32b13cec6ef"
            ]
          }
        },
        "e33ad38f331349cf941e799e950b2376": {
          "model_module": "@jupyter-widgets/base",
          "model_name": "LayoutModel",
          "state": {
            "_view_name": "LayoutView",
            "grid_template_rows": null,
            "right": null,
            "justify_content": null,
            "_view_module": "@jupyter-widgets/base",
            "overflow": null,
            "_model_module_version": "1.2.0",
            "_view_count": null,
            "flex_flow": null,
            "width": null,
            "min_width": null,
            "border": null,
            "align_items": null,
            "bottom": null,
            "_model_module": "@jupyter-widgets/base",
            "top": null,
            "grid_column": null,
            "overflow_y": null,
            "overflow_x": null,
            "grid_auto_flow": null,
            "grid_area": null,
            "grid_template_columns": null,
            "flex": null,
            "_model_name": "LayoutModel",
            "justify_items": null,
            "grid_row": null,
            "max_height": null,
            "align_content": null,
            "visibility": null,
            "align_self": null,
            "height": null,
            "min_height": null,
            "padding": null,
            "grid_auto_rows": null,
            "grid_gap": null,
            "max_width": null,
            "order": null,
            "_view_module_version": "1.2.0",
            "grid_template_areas": null,
            "object_position": null,
            "object_fit": null,
            "grid_auto_columns": null,
            "margin": null,
            "display": null,
            "left": null
          }
        },
        "0012d719838845e3a88f271bab39e1de": {
          "model_module": "@jupyter-widgets/controls",
          "model_name": "IntProgressModel",
          "state": {
            "_view_name": "ProgressView",
            "style": "IPY_MODEL_8ab23d96734f4e1c9a8d8ce7423ff23c",
            "_dom_classes": [],
            "description": "Downloading: 100%",
            "_model_name": "IntProgressModel",
            "bar_style": "success",
            "max": 546,
            "_view_module": "@jupyter-widgets/controls",
            "_model_module_version": "1.5.0",
            "value": 546,
            "_view_count": null,
            "_view_module_version": "1.5.0",
            "orientation": "horizontal",
            "min": 0,
            "description_tooltip": null,
            "_model_module": "@jupyter-widgets/controls",
            "layout": "IPY_MODEL_69a16189a386449bb019eca669a42f3f"
          }
        },
        "08fd5dc41dad4c13909be32b13cec6ef": {
          "model_module": "@jupyter-widgets/controls",
          "model_name": "HTMLModel",
          "state": {
            "_view_name": "HTMLView",
            "style": "IPY_MODEL_eac1ed2a82d541598dbb917a8526f24d",
            "_dom_classes": [],
            "description": "",
            "_model_name": "HTMLModel",
            "placeholder": "​",
            "_view_module": "@jupyter-widgets/controls",
            "_model_module_version": "1.5.0",
            "value": " 546/546 [00:04&lt;00:00, 130B/s]",
            "_view_count": null,
            "_view_module_version": "1.5.0",
            "description_tooltip": null,
            "_model_module": "@jupyter-widgets/controls",
            "layout": "IPY_MODEL_cee1786fee7b48149cc4605961fb38bf"
          }
        },
        "8ab23d96734f4e1c9a8d8ce7423ff23c": {
          "model_module": "@jupyter-widgets/controls",
          "model_name": "ProgressStyleModel",
          "state": {
            "_view_name": "StyleView",
            "_model_name": "ProgressStyleModel",
            "description_width": "initial",
            "_view_module": "@jupyter-widgets/base",
            "_model_module_version": "1.5.0",
            "_view_count": null,
            "_view_module_version": "1.2.0",
            "bar_color": null,
            "_model_module": "@jupyter-widgets/controls"
          }
        },
        "69a16189a386449bb019eca669a42f3f": {
          "model_module": "@jupyter-widgets/base",
          "model_name": "LayoutModel",
          "state": {
            "_view_name": "LayoutView",
            "grid_template_rows": null,
            "right": null,
            "justify_content": null,
            "_view_module": "@jupyter-widgets/base",
            "overflow": null,
            "_model_module_version": "1.2.0",
            "_view_count": null,
            "flex_flow": null,
            "width": null,
            "min_width": null,
            "border": null,
            "align_items": null,
            "bottom": null,
            "_model_module": "@jupyter-widgets/base",
            "top": null,
            "grid_column": null,
            "overflow_y": null,
            "overflow_x": null,
            "grid_auto_flow": null,
            "grid_area": null,
            "grid_template_columns": null,
            "flex": null,
            "_model_name": "LayoutModel",
            "justify_items": null,
            "grid_row": null,
            "max_height": null,
            "align_content": null,
            "visibility": null,
            "align_self": null,
            "height": null,
            "min_height": null,
            "padding": null,
            "grid_auto_rows": null,
            "grid_gap": null,
            "max_width": null,
            "order": null,
            "_view_module_version": "1.2.0",
            "grid_template_areas": null,
            "object_position": null,
            "object_fit": null,
            "grid_auto_columns": null,
            "margin": null,
            "display": null,
            "left": null
          }
        },
        "eac1ed2a82d541598dbb917a8526f24d": {
          "model_module": "@jupyter-widgets/controls",
          "model_name": "DescriptionStyleModel",
          "state": {
            "_view_name": "StyleView",
            "_model_name": "DescriptionStyleModel",
            "description_width": "",
            "_view_module": "@jupyter-widgets/base",
            "_model_module_version": "1.5.0",
            "_view_count": null,
            "_view_module_version": "1.2.0",
            "_model_module": "@jupyter-widgets/controls"
          }
        },
        "cee1786fee7b48149cc4605961fb38bf": {
          "model_module": "@jupyter-widgets/base",
          "model_name": "LayoutModel",
          "state": {
            "_view_name": "LayoutView",
            "grid_template_rows": null,
            "right": null,
            "justify_content": null,
            "_view_module": "@jupyter-widgets/base",
            "overflow": null,
            "_model_module_version": "1.2.0",
            "_view_count": null,
            "flex_flow": null,
            "width": null,
            "min_width": null,
            "border": null,
            "align_items": null,
            "bottom": null,
            "_model_module": "@jupyter-widgets/base",
            "top": null,
            "grid_column": null,
            "overflow_y": null,
            "overflow_x": null,
            "grid_auto_flow": null,
            "grid_area": null,
            "grid_template_columns": null,
            "flex": null,
            "_model_name": "LayoutModel",
            "justify_items": null,
            "grid_row": null,
            "max_height": null,
            "align_content": null,
            "visibility": null,
            "align_self": null,
            "height": null,
            "min_height": null,
            "padding": null,
            "grid_auto_rows": null,
            "grid_gap": null,
            "max_width": null,
            "order": null,
            "_view_module_version": "1.2.0",
            "grid_template_areas": null,
            "object_position": null,
            "object_fit": null,
            "grid_auto_columns": null,
            "margin": null,
            "display": null,
            "left": null
          }
        },
        "00fa66592e4141e5a1aa2b7709e0a9e4": {
          "model_module": "@jupyter-widgets/controls",
          "model_name": "HBoxModel",
          "state": {
            "_view_name": "HBoxView",
            "_dom_classes": [],
            "_model_name": "HBoxModel",
            "_view_module": "@jupyter-widgets/controls",
            "_model_module_version": "1.5.0",
            "_view_count": null,
            "_view_module_version": "1.5.0",
            "box_style": "",
            "layout": "IPY_MODEL_4dbc91078d684f5dbd6b3ac401a7ea29",
            "_model_module": "@jupyter-widgets/controls",
            "children": [
              "IPY_MODEL_3f53c9fc5bfd4d6e905a731545b7e7bc",
              "IPY_MODEL_95206a6d807a45c18bdeb8cc0118143f"
            ]
          }
        },
        "4dbc91078d684f5dbd6b3ac401a7ea29": {
          "model_module": "@jupyter-widgets/base",
          "model_name": "LayoutModel",
          "state": {
            "_view_name": "LayoutView",
            "grid_template_rows": null,
            "right": null,
            "justify_content": null,
            "_view_module": "@jupyter-widgets/base",
            "overflow": null,
            "_model_module_version": "1.2.0",
            "_view_count": null,
            "flex_flow": null,
            "width": null,
            "min_width": null,
            "border": null,
            "align_items": null,
            "bottom": null,
            "_model_module": "@jupyter-widgets/base",
            "top": null,
            "grid_column": null,
            "overflow_y": null,
            "overflow_x": null,
            "grid_auto_flow": null,
            "grid_area": null,
            "grid_template_columns": null,
            "flex": null,
            "_model_name": "LayoutModel",
            "justify_items": null,
            "grid_row": null,
            "max_height": null,
            "align_content": null,
            "visibility": null,
            "align_self": null,
            "height": null,
            "min_height": null,
            "padding": null,
            "grid_auto_rows": null,
            "grid_gap": null,
            "max_width": null,
            "order": null,
            "_view_module_version": "1.2.0",
            "grid_template_areas": null,
            "object_position": null,
            "object_fit": null,
            "grid_auto_columns": null,
            "margin": null,
            "display": null,
            "left": null
          }
        },
        "3f53c9fc5bfd4d6e905a731545b7e7bc": {
          "model_module": "@jupyter-widgets/controls",
          "model_name": "IntProgressModel",
          "state": {
            "_view_name": "ProgressView",
            "style": "IPY_MODEL_e2acf150fd6345aa8b6a112d53872c5d",
            "_dom_classes": [],
            "description": "Downloading: 100%",
            "_model_name": "IntProgressModel",
            "bar_style": "success",
            "max": 267967963,
            "_view_module": "@jupyter-widgets/controls",
            "_model_module_version": "1.5.0",
            "value": 267967963,
            "_view_count": null,
            "_view_module_version": "1.5.0",
            "orientation": "horizontal",
            "min": 0,
            "description_tooltip": null,
            "_model_module": "@jupyter-widgets/controls",
            "layout": "IPY_MODEL_9b1279c99b714ecdbc4fd1c7fda292a5"
          }
        },
        "95206a6d807a45c18bdeb8cc0118143f": {
          "model_module": "@jupyter-widgets/controls",
          "model_name": "HTMLModel",
          "state": {
            "_view_name": "HTMLView",
            "style": "IPY_MODEL_18234140ddd64ce4bd95a2205cffc56e",
            "_dom_classes": [],
            "description": "",
            "_model_name": "HTMLModel",
            "placeholder": "​",
            "_view_module": "@jupyter-widgets/controls",
            "_model_module_version": "1.5.0",
            "value": " 268M/268M [00:03&lt;00:00, 70.6MB/s]",
            "_view_count": null,
            "_view_module_version": "1.5.0",
            "description_tooltip": null,
            "_model_module": "@jupyter-widgets/controls",
            "layout": "IPY_MODEL_ae610faf5c71457ca922467c2427c978"
          }
        },
        "e2acf150fd6345aa8b6a112d53872c5d": {
          "model_module": "@jupyter-widgets/controls",
          "model_name": "ProgressStyleModel",
          "state": {
            "_view_name": "StyleView",
            "_model_name": "ProgressStyleModel",
            "description_width": "initial",
            "_view_module": "@jupyter-widgets/base",
            "_model_module_version": "1.5.0",
            "_view_count": null,
            "_view_module_version": "1.2.0",
            "bar_color": null,
            "_model_module": "@jupyter-widgets/controls"
          }
        },
        "9b1279c99b714ecdbc4fd1c7fda292a5": {
          "model_module": "@jupyter-widgets/base",
          "model_name": "LayoutModel",
          "state": {
            "_view_name": "LayoutView",
            "grid_template_rows": null,
            "right": null,
            "justify_content": null,
            "_view_module": "@jupyter-widgets/base",
            "overflow": null,
            "_model_module_version": "1.2.0",
            "_view_count": null,
            "flex_flow": null,
            "width": null,
            "min_width": null,
            "border": null,
            "align_items": null,
            "bottom": null,
            "_model_module": "@jupyter-widgets/base",
            "top": null,
            "grid_column": null,
            "overflow_y": null,
            "overflow_x": null,
            "grid_auto_flow": null,
            "grid_area": null,
            "grid_template_columns": null,
            "flex": null,
            "_model_name": "LayoutModel",
            "justify_items": null,
            "grid_row": null,
            "max_height": null,
            "align_content": null,
            "visibility": null,
            "align_self": null,
            "height": null,
            "min_height": null,
            "padding": null,
            "grid_auto_rows": null,
            "grid_gap": null,
            "max_width": null,
            "order": null,
            "_view_module_version": "1.2.0",
            "grid_template_areas": null,
            "object_position": null,
            "object_fit": null,
            "grid_auto_columns": null,
            "margin": null,
            "display": null,
            "left": null
          }
        },
        "18234140ddd64ce4bd95a2205cffc56e": {
          "model_module": "@jupyter-widgets/controls",
          "model_name": "DescriptionStyleModel",
          "state": {
            "_view_name": "StyleView",
            "_model_name": "DescriptionStyleModel",
            "description_width": "",
            "_view_module": "@jupyter-widgets/base",
            "_model_module_version": "1.5.0",
            "_view_count": null,
            "_view_module_version": "1.2.0",
            "_model_module": "@jupyter-widgets/controls"
          }
        },
        "ae610faf5c71457ca922467c2427c978": {
          "model_module": "@jupyter-widgets/base",
          "model_name": "LayoutModel",
          "state": {
            "_view_name": "LayoutView",
            "grid_template_rows": null,
            "right": null,
            "justify_content": null,
            "_view_module": "@jupyter-widgets/base",
            "overflow": null,
            "_model_module_version": "1.2.0",
            "_view_count": null,
            "flex_flow": null,
            "width": null,
            "min_width": null,
            "border": null,
            "align_items": null,
            "bottom": null,
            "_model_module": "@jupyter-widgets/base",
            "top": null,
            "grid_column": null,
            "overflow_y": null,
            "overflow_x": null,
            "grid_auto_flow": null,
            "grid_area": null,
            "grid_template_columns": null,
            "flex": null,
            "_model_name": "LayoutModel",
            "justify_items": null,
            "grid_row": null,
            "max_height": null,
            "align_content": null,
            "visibility": null,
            "align_self": null,
            "height": null,
            "min_height": null,
            "padding": null,
            "grid_auto_rows": null,
            "grid_gap": null,
            "max_width": null,
            "order": null,
            "_view_module_version": "1.2.0",
            "grid_template_areas": null,
            "object_position": null,
            "object_fit": null,
            "grid_auto_columns": null,
            "margin": null,
            "display": null,
            "left": null
          }
        }
      }
    }
  },
  "cells": [
    {
      "cell_type": "code",
      "metadata": {
        "id": "ztp68mbd1CSY",
        "colab_type": "code",
        "colab": {
          "base_uri": "https://localhost:8080/",
          "height": 1000
        },
        "outputId": "b405a2f8-2ccc-4b39-fb89-1fbbcc67eb66"
      },
      "source": [
        "import numpy as np\n",
        "import matplotlib.pyplot as plt\n",
        "import pandas as pd\n",
        "import string\n",
        "%matplotlib notebook\n",
        "from PIL import Image\n",
        "from sklearn.utils import shuffle\n",
        "\n",
        "\n",
        "!pip install nltk\n",
        "\n",
        "#pre-processing\n",
        "import re\n",
        "import nltk\n",
        "nltk.download('stopwords')\n",
        "from bs4 import BeautifulSoup\n",
        "from nltk.corpus import stopwords\n",
        "from nltk.stem.porter import PorterStemmer\n",
        "english_stemmer=nltk.stem.SnowballStemmer('english')\n",
        "from sklearn.model_selection import train_test_split\n",
        "from sklearn.utils import shuffle\n",
        "from sklearn.feature_extraction.text import CountVectorizer,TfidfVectorizer\n",
        "\n",
        "\n",
        "\n",
        "#modeling\n",
        "from sklearn.naive_bayes import GaussianNB,BernoulliNB,MultinomialNB\n",
        "from sklearn.linear_model import LogisticRegression\n",
        "from sklearn.linear_model import RidgeClassifier\n",
        "from sklearn.ensemble import RandomForestClassifier\n",
        "from sklearn.svm import LinearSVC\n",
        "from sklearn.neural_network import MLPClassifier\n",
        "from sklearn.linear_model import SGDClassifier\n",
        "from sklearn.neighbors import KNeighborsClassifier\n",
        "\n",
        "\n",
        "\n",
        "\n",
        "#CV\n",
        "from sklearn.pipeline import Pipeline\n",
        "from sklearn.model_selection import cross_val_score, GridSearchCV\n",
        "from sklearn.model_selection import cross_validate\n",
        "from sklearn.metrics import accuracy_score\n",
        "from sklearn.metrics import classification_report, confusion_matrix\n",
        "from sklearn import metrics\n",
        "from numpy import array\n",
        "from sklearn.model_selection import KFold\n",
        "\n",
        "!pip install pytorch_pretrained_bert\n",
        "!pip install transformers\n",
        "import torch\n",
        "from pytorch_pretrained_bert import BertTokenizer, BertModel, BertForMaskedLM\n",
        "import transformers as ppb # pytorch transformers\n",
        "warnings.filterwarnings('ignore')"
      ],
      "execution_count": 1,
      "outputs": [
        {
          "output_type": "stream",
          "text": [
            "Requirement already satisfied: nltk in /usr/local/lib/python3.6/dist-packages (3.2.5)\n",
            "Requirement already satisfied: six in /usr/local/lib/python3.6/dist-packages (from nltk) (1.12.0)\n",
            "[nltk_data] Downloading package stopwords to /root/nltk_data...\n",
            "[nltk_data]   Unzipping corpora/stopwords.zip.\n",
            "Collecting pytorch_pretrained_bert\n",
            "\u001b[?25l  Downloading https://files.pythonhosted.org/packages/d7/e0/c08d5553b89973d9a240605b9c12404bcf8227590de62bae27acbcfe076b/pytorch_pretrained_bert-0.6.2-py3-none-any.whl (123kB)\n",
            "\u001b[K     |████████████████████████████████| 133kB 3.2MB/s \n",
            "\u001b[?25hRequirement already satisfied: requests in /usr/local/lib/python3.6/dist-packages (from pytorch_pretrained_bert) (2.21.0)\n",
            "Requirement already satisfied: numpy in /usr/local/lib/python3.6/dist-packages (from pytorch_pretrained_bert) (1.18.2)\n",
            "Requirement already satisfied: boto3 in /usr/local/lib/python3.6/dist-packages (from pytorch_pretrained_bert) (1.12.39)\n",
            "Requirement already satisfied: torch>=0.4.1 in /usr/local/lib/python3.6/dist-packages (from pytorch_pretrained_bert) (1.4.0)\n",
            "Requirement already satisfied: tqdm in /usr/local/lib/python3.6/dist-packages (from pytorch_pretrained_bert) (4.38.0)\n",
            "Requirement already satisfied: regex in /usr/local/lib/python3.6/dist-packages (from pytorch_pretrained_bert) (2019.12.20)\n",
            "Requirement already satisfied: certifi>=2017.4.17 in /usr/local/lib/python3.6/dist-packages (from requests->pytorch_pretrained_bert) (2020.4.5.1)\n",
            "Requirement already satisfied: urllib3<1.25,>=1.21.1 in /usr/local/lib/python3.6/dist-packages (from requests->pytorch_pretrained_bert) (1.24.3)\n",
            "Requirement already satisfied: chardet<3.1.0,>=3.0.2 in /usr/local/lib/python3.6/dist-packages (from requests->pytorch_pretrained_bert) (3.0.4)\n",
            "Requirement already satisfied: idna<2.9,>=2.5 in /usr/local/lib/python3.6/dist-packages (from requests->pytorch_pretrained_bert) (2.8)\n",
            "Requirement already satisfied: jmespath<1.0.0,>=0.7.1 in /usr/local/lib/python3.6/dist-packages (from boto3->pytorch_pretrained_bert) (0.9.5)\n",
            "Requirement already satisfied: botocore<1.16.0,>=1.15.39 in /usr/local/lib/python3.6/dist-packages (from boto3->pytorch_pretrained_bert) (1.15.39)\n",
            "Requirement already satisfied: s3transfer<0.4.0,>=0.3.0 in /usr/local/lib/python3.6/dist-packages (from boto3->pytorch_pretrained_bert) (0.3.3)\n",
            "Requirement already satisfied: python-dateutil<3.0.0,>=2.1 in /usr/local/lib/python3.6/dist-packages (from botocore<1.16.0,>=1.15.39->boto3->pytorch_pretrained_bert) (2.8.1)\n",
            "Requirement already satisfied: docutils<0.16,>=0.10 in /usr/local/lib/python3.6/dist-packages (from botocore<1.16.0,>=1.15.39->boto3->pytorch_pretrained_bert) (0.15.2)\n",
            "Requirement already satisfied: six>=1.5 in /usr/local/lib/python3.6/dist-packages (from python-dateutil<3.0.0,>=2.1->botocore<1.16.0,>=1.15.39->boto3->pytorch_pretrained_bert) (1.12.0)\n",
            "Installing collected packages: pytorch-pretrained-bert\n",
            "Successfully installed pytorch-pretrained-bert-0.6.2\n",
            "Collecting transformers\n",
            "\u001b[?25l  Downloading https://files.pythonhosted.org/packages/a3/78/92cedda05552398352ed9784908b834ee32a0bd071a9b32de287327370b7/transformers-2.8.0-py3-none-any.whl (563kB)\n",
            "\u001b[K     |████████████████████████████████| 573kB 3.4MB/s \n",
            "\u001b[?25hRequirement already satisfied: dataclasses; python_version < \"3.7\" in /usr/local/lib/python3.6/dist-packages (from transformers) (0.7)\n",
            "Requirement already satisfied: regex!=2019.12.17 in /usr/local/lib/python3.6/dist-packages (from transformers) (2019.12.20)\n",
            "Requirement already satisfied: boto3 in /usr/local/lib/python3.6/dist-packages (from transformers) (1.12.39)\n",
            "Requirement already satisfied: tqdm>=4.27 in /usr/local/lib/python3.6/dist-packages (from transformers) (4.38.0)\n",
            "Collecting sentencepiece\n",
            "\u001b[?25l  Downloading https://files.pythonhosted.org/packages/74/f4/2d5214cbf13d06e7cb2c20d84115ca25b53ea76fa1f0ade0e3c9749de214/sentencepiece-0.1.85-cp36-cp36m-manylinux1_x86_64.whl (1.0MB)\n",
            "\u001b[K     |████████████████████████████████| 1.0MB 11.0MB/s \n",
            "\u001b[?25hCollecting sacremoses\n",
            "\u001b[?25l  Downloading https://files.pythonhosted.org/packages/99/50/93509f906a40bffd7d175f97fd75ea328ad9bd91f48f59c4bd084c94a25e/sacremoses-0.0.41.tar.gz (883kB)\n",
            "\u001b[K     |████████████████████████████████| 890kB 21.5MB/s \n",
            "\u001b[?25hRequirement already satisfied: requests in /usr/local/lib/python3.6/dist-packages (from transformers) (2.21.0)\n",
            "Requirement already satisfied: filelock in /usr/local/lib/python3.6/dist-packages (from transformers) (3.0.12)\n",
            "Requirement already satisfied: numpy in /usr/local/lib/python3.6/dist-packages (from transformers) (1.18.2)\n",
            "Collecting tokenizers==0.5.2\n",
            "\u001b[?25l  Downloading https://files.pythonhosted.org/packages/d1/3f/73c881ea4723e43c1e9acf317cf407fab3a278daab3a69c98dcac511c04f/tokenizers-0.5.2-cp36-cp36m-manylinux1_x86_64.whl (3.7MB)\n",
            "\u001b[K     |████████████████████████████████| 3.7MB 28.9MB/s \n",
            "\u001b[?25hRequirement already satisfied: s3transfer<0.4.0,>=0.3.0 in /usr/local/lib/python3.6/dist-packages (from boto3->transformers) (0.3.3)\n",
            "Requirement already satisfied: botocore<1.16.0,>=1.15.39 in /usr/local/lib/python3.6/dist-packages (from boto3->transformers) (1.15.39)\n",
            "Requirement already satisfied: jmespath<1.0.0,>=0.7.1 in /usr/local/lib/python3.6/dist-packages (from boto3->transformers) (0.9.5)\n",
            "Requirement already satisfied: six in /usr/local/lib/python3.6/dist-packages (from sacremoses->transformers) (1.12.0)\n",
            "Requirement already satisfied: click in /usr/local/lib/python3.6/dist-packages (from sacremoses->transformers) (7.1.1)\n",
            "Requirement already satisfied: joblib in /usr/local/lib/python3.6/dist-packages (from sacremoses->transformers) (0.14.1)\n",
            "Requirement already satisfied: idna<2.9,>=2.5 in /usr/local/lib/python3.6/dist-packages (from requests->transformers) (2.8)\n",
            "Requirement already satisfied: chardet<3.1.0,>=3.0.2 in /usr/local/lib/python3.6/dist-packages (from requests->transformers) (3.0.4)\n",
            "Requirement already satisfied: certifi>=2017.4.17 in /usr/local/lib/python3.6/dist-packages (from requests->transformers) (2020.4.5.1)\n",
            "Requirement already satisfied: urllib3<1.25,>=1.21.1 in /usr/local/lib/python3.6/dist-packages (from requests->transformers) (1.24.3)\n",
            "Requirement already satisfied: python-dateutil<3.0.0,>=2.1 in /usr/local/lib/python3.6/dist-packages (from botocore<1.16.0,>=1.15.39->boto3->transformers) (2.8.1)\n",
            "Requirement already satisfied: docutils<0.16,>=0.10 in /usr/local/lib/python3.6/dist-packages (from botocore<1.16.0,>=1.15.39->boto3->transformers) (0.15.2)\n",
            "Building wheels for collected packages: sacremoses\n",
            "  Building wheel for sacremoses (setup.py) ... \u001b[?25l\u001b[?25hdone\n",
            "  Created wheel for sacremoses: filename=sacremoses-0.0.41-cp36-none-any.whl size=893334 sha256=57aeabe03e50ed89fd126a8de448f9af5b6b3b9052a8eaff6cd4b83dacd07fa5\n",
            "  Stored in directory: /root/.cache/pip/wheels/22/5a/d4/b020a81249de7dc63758a34222feaa668dbe8ebfe9170cc9b1\n",
            "Successfully built sacremoses\n",
            "Installing collected packages: sentencepiece, sacremoses, tokenizers, transformers\n",
            "Successfully installed sacremoses-0.0.41 sentencepiece-0.1.85 tokenizers-0.5.2 transformers-2.8.0\n"
          ],
          "name": "stdout"
        }
      ]
    },
    {
      "cell_type": "code",
      "metadata": {
        "id": "l0wPy7Mt1ExJ",
        "colab_type": "code",
        "colab": {}
      },
      "source": [
        "from pydrive.auth import GoogleAuth\n",
        "from pydrive.drive import GoogleDrive\n",
        "from google.colab import auth\n",
        "from oauth2client.client import GoogleCredentials\n",
        "# Authenticate and create the PyDrive client.\n",
        "auth.authenticate_user()\n",
        "gauth = GoogleAuth()\n",
        "gauth.credentials = GoogleCredentials.get_application_default()\n",
        "drive = GoogleDrive(gauth)"
      ],
      "execution_count": 0,
      "outputs": []
    },
    {
      "cell_type": "code",
      "metadata": {
        "id": "YoIPJeD21E4g",
        "colab_type": "code",
        "colab": {
          "base_uri": "https://localhost:8080/",
          "height": 34
        },
        "outputId": "dc2c80e2-ee3c-45da-913b-973105582d2c"
      },
      "source": [
        "link = 'https://drive.google.com/open?id=17cPPr1M0xHa8iv_tpBzQyNzkbd14iX98'\n",
        "\n",
        "fluff, id = link.split('=')\n",
        "print (id)\n",
        "downloaded = drive.CreateFile({'id':id}) \n",
        "downloaded.GetContentFile('791531.csv')  "
      ],
      "execution_count": 3,
      "outputs": [
        {
          "output_type": "stream",
          "text": [
            "17cPPr1M0xHa8iv_tpBzQyNzkbd14iX98\n"
          ],
          "name": "stdout"
        }
      ]
    },
    {
      "cell_type": "code",
      "metadata": {
        "id": "S2oMMyMP1FGW",
        "colab_type": "code",
        "colab": {
          "base_uri": "https://localhost:8080/",
          "height": 34
        },
        "outputId": "18184a96-fe34-4754-9b46-cd6aa1856bcf"
      },
      "source": [
        "df = pd.read_csv('791531.csv', encoding='latin-1')\n",
        "df.shape"
      ],
      "execution_count": 4,
      "outputs": [
        {
          "output_type": "execute_result",
          "data": {
            "text/plain": [
              "(20050, 26)"
            ]
          },
          "metadata": {
            "tags": []
          },
          "execution_count": 4
        }
      ]
    },
    {
      "cell_type": "code",
      "metadata": {
        "id": "6AEe5Tb21FDz",
        "colab_type": "code",
        "colab": {
          "base_uri": "https://localhost:8080/",
          "height": 34
        },
        "outputId": "5a5f8e3b-5117-4d9c-f4c2-7092828aebf6"
      },
      "source": [
        "df = df[['text', 'description', 'sidebar_color', 'gender:confidence', 'gender']]\n",
        "#the model's main purpose is detecting gender, so we didn't pick 'location' feature\n",
        "df.dropna(inplace = True)\n",
        "df.drop(df[(df['gender'] == 'unknown') | \n",
        "           (df['gender'] == 'brand')].index, inplace = True)\n",
        "df.drop(df[df['gender:confidence'] != 1].index, inplace = True)\n",
        "df.shape"
      ],
      "execution_count": 5,
      "outputs": [
        {
          "output_type": "execute_result",
          "data": {
            "text/plain": [
              "(8766, 5)"
            ]
          },
          "metadata": {
            "tags": []
          },
          "execution_count": 5
        }
      ]
    },
    {
      "cell_type": "code",
      "metadata": {
        "id": "bjPtLvWE1E8S",
        "colab_type": "code",
        "colab": {
          "base_uri": "https://localhost:8080/",
          "height": 51
        },
        "outputId": "bfd73ce4-873e-458b-9fdf-9c356fcc0c82"
      },
      "source": [
        "#two funcitons for normalization\n",
        "def doc_features(doc):\n",
        "    #HTML\n",
        "    pattern = r\"http\\S+\"\n",
        "    documents = re.sub(pattern, \" \", doc)\n",
        "    \n",
        "    #'-' letters\n",
        "    documents = re.sub(\"[^a-zA-Z]\",\" \", doc)\n",
        "    \n",
        "    #To lower case\n",
        "    words = documents.lower().split()\n",
        "    \n",
        "    #Stop words (nltk)\n",
        "    stop = set(stopwords.words(\"english\"))\n",
        "    words = [w for w in words if not w in stop]\n",
        "    \n",
        "    #Stemmer & Return\n",
        "    features = []\n",
        "    stemmer = english_stemmer\n",
        "    for word in words:\n",
        "        features.append(stemmer.stem(word))\n",
        "        \n",
        "    return(features)\n",
        "    \n",
        "def text_cleaner(text):\n",
        "    clean_text = []\n",
        "    for i in text:\n",
        "        clean_text.append(' '.join(doc_features(i)))\n",
        "    \n",
        "    return clean_text\n",
        "\n",
        "\n",
        "df['text'] = text_cleaner(df['text']);\n",
        "df['description'] = text_cleaner(df['description']);\n",
        "\n",
        "#shuffle again\n",
        "df = shuffle(df)\n",
        "df.reset_index(drop=True, inplace= True)\n",
        "m2_df_level0 = df[['text', 'description', 'gender']]\n",
        "\n",
        "#set 75% train & 25% hideout\n",
        "\n",
        "trainindex = int(len(m2_df_level0)*0.8)-1\n",
        "hideoutindex = trainindex + 1\n",
        "\n",
        "print(trainindex, hideoutindex)\n",
        "\n",
        "m2_df_level0_train = m2_df_level0[['text','description','gender']].loc[:trainindex]\n",
        "m2_df_level0_hideout = m2_df_level0[['text','description','gender']].loc[hideoutindex:]\n",
        "\n",
        "print (m2_df_level0_train.shape, m2_df_level0_hideout.shape)"
      ],
      "execution_count": 6,
      "outputs": [
        {
          "output_type": "stream",
          "text": [
            "7011 7012\n",
            "(7012, 3) (1754, 3)\n"
          ],
          "name": "stdout"
        }
      ]
    },
    {
      "cell_type": "code",
      "metadata": {
        "id": "Ew56qef43WAN",
        "colab_type": "code",
        "colab": {}
      },
      "source": [
        "def text_vec_convert2(X_train, X_test):\n",
        "    #vectorizer = CountVectorizer(ngram_range = (1,1))\n",
        "    #X_train = vectorizer.fit_transform(X_train)\n",
        "    #X_test = vectorizer.transform(X_test)\n",
        "    \n",
        "    model_class, tokenizer_class, pretrained_weights = (ppb.DistilBertModel, ppb.DistilBertTokenizer, \n",
        "                                                    'distilbert-base-uncased')\n",
        "    tokenizer = tokenizer_class.from_pretrained(pretrained_weights)\n",
        "    model = model_class.from_pretrained(pretrained_weights)\n",
        "    \n",
        "    tokenized_train = X_train.apply((lambda x: tokenizer.encode(x, add_special_tokens=True)))\n",
        "    tokenized_test = X_test.apply((lambda x: tokenizer.encode(x, add_special_tokens=True)))\n",
        "    \n",
        "    \n",
        "    padded_train = go_padded(tokenized_train)\n",
        "    padded_test = go_padded(tokenized_test)\n",
        "    \n",
        "    features_train = transform(padded_train, model)\n",
        "    features_test = transform(padded_test, model)\n",
        "\n",
        "    return(features_train, features_test)\n",
        "    \n",
        "def go_padded(token):\n",
        "    max_len = 0\n",
        "    \n",
        "    for i in token.values:\n",
        "        if len(i) > max_len:\n",
        "            max_len = len(i)\n",
        "    \n",
        "    padded = np.array([i + [0]*(max_len-len(i)) for i in token.values])\n",
        "    return padded\n",
        "\n",
        "def transform(padded, model):\n",
        "    input_ids = torch.tensor(np.array(padded))\n",
        "    with torch.no_grad():\n",
        "        last_hidden_states = model(input_ids)  \n",
        "    \n",
        "    attention_mask = np.where(padded != 0, 1, 0)\n",
        "    attention_mask.shape    \n",
        "    input_ids = torch.tensor(padded)  \n",
        "    attention_mask = torch.tensor(attention_mask)\n",
        "    \n",
        "    with torch.no_grad():\n",
        "        last_hidden_states = model(input_ids, attention_mask=attention_mask)    \n",
        "    features = last_hidden_states[0][:,0,:].numpy()    \n",
        "    \n",
        "    return features\n",
        "\n",
        "\n",
        "def m2_lv0_modeling(X_train, y_train, X_column):\n",
        "    \n",
        "    X_sub_train, X_sub_test, y_sub_train, y_sub_test = train_test_split(X_train, y_train,\n",
        "                                                                        test_size=0.50, random_state=100)\n",
        "    estimators=[\n",
        "        ('logistic',LogisticRegression(solver='liblinear',penalty='l2')),\n",
        "        ('lasso',LogisticRegression(solver='liblinear',penalty='l1')),\n",
        "        ('elasticnet',SGDClassifier(loss='log', penalty='elasticnet')),\n",
        "        ('random_forest',RandomForestClassifier()),\n",
        "        ('deep_nn',MLPClassifier()),\n",
        "        ('knn',KNeighborsClassifier(n_neighbors=5,weights='distance',algorithm='auto')),\n",
        "        #('MNB', MultinomialNB(alpha = 1))\n",
        "        ]\n",
        "    \n",
        "    pipes=[]\n",
        "    model_name = []\n",
        "    pred_sub_df = pd.DataFrame({'clf_name':[], 'prob_male':[]})\n",
        "    for model in estimators:\n",
        "        pipe=Pipeline(steps=[(model)])\n",
        "        pipe.fit(X_sub_train,y_sub_train)\n",
        "        \n",
        "        print(model[0], 'accuracy:', pipe.score(X_sub_test, y_sub_test))\n",
        "        pred_sub = pipe.predict_proba(X_sub_test)\n",
        "        pred_sub_df_temp = pd.DataFrame({'clf_name': X_column + '_' + model[0], \n",
        "                                         'prob_male':pred_sub[m, 1]} for m in range(len(pred_sub)))\n",
        "        pred_sub_df = pred_sub_df.append(pred_sub_df_temp, sort= False)\n",
        "        \n",
        "        pipes.append(pipe)\n",
        "        model_name.append(model[0])\n",
        "     \n",
        "    #return trained classfiers\n",
        "    return pipes, model_name, pred_sub_df, y_sub_test\n",
        "\n",
        "\n",
        "def m2_lv0_wrap(X_train, X_test, y_train):\n",
        "    \n",
        "    #take column name\n",
        "    X_column = X_train.name\n",
        "    \n",
        "    #text vectorize\n",
        "    X_train, X_test = text_vec_convert2(X_train, X_test)\n",
        "    \n",
        "    #modeling & get clf\n",
        "    clfs, clf_names, pred_sub_df, y_sub_test = m2_lv0_modeling(X_train, y_train, X_column)\n",
        "    \n",
        "    #apply X_test to clf for prediction\n",
        "    prediction_df = pd.DataFrame({'clf_name':[], 'prob_male':[]})\n",
        "    for i , j in zip(clfs, clf_names):\n",
        "        pred = i.predict_proba(X_test)\n",
        "        prediction_df_temp = pd.DataFrame({'clf_name': X_column + '_' + j,\n",
        "                                           'prob_male':pred[m, 1] } for m in range(len(pred)))\n",
        "        prediction_df = prediction_df.append(prediction_df_temp, sort= False)\n",
        "    #pivot prediction output\n",
        "    prediction_df = prediction_df.pivot(index= None, columns= 'clf_name', values= 'prob_male')\n",
        "    \n",
        "    \n",
        "    return prediction_df, pred_sub_df, y_sub_test\n",
        "        \n",
        "    "
      ],
      "execution_count": 0,
      "outputs": []
    },
    {
      "cell_type": "code",
      "metadata": {
        "id": "cBpKm2lX3cN3",
        "colab_type": "code",
        "colab": {
          "base_uri": "https://localhost:8080/",
          "height": 436,
          "referenced_widgets": [
            "4f89b8d2d9f64295bc8d0cf9b5e794e6",
            "b439eb07049e4a0c83d1b0766747434a",
            "5c5ff724769a4e62836d1ce188749020",
            "c26b4c5e2011417fbd043e197fbc82af",
            "12dd805bc65748e3b9ec5aa4a06bf034",
            "aaf68bab9b7a40a4acca9742ff1ba285",
            "dfe5c0c46a89418ba09432cea8945683",
            "705e6fb10bd943528c5f654e5714b5f4",
            "a3c284187ffb4ffcaffabd1fa1632d31",
            "e33ad38f331349cf941e799e950b2376",
            "0012d719838845e3a88f271bab39e1de",
            "08fd5dc41dad4c13909be32b13cec6ef",
            "8ab23d96734f4e1c9a8d8ce7423ff23c",
            "69a16189a386449bb019eca669a42f3f",
            "eac1ed2a82d541598dbb917a8526f24d",
            "cee1786fee7b48149cc4605961fb38bf",
            "00fa66592e4141e5a1aa2b7709e0a9e4",
            "4dbc91078d684f5dbd6b3ac401a7ea29",
            "3f53c9fc5bfd4d6e905a731545b7e7bc",
            "95206a6d807a45c18bdeb8cc0118143f",
            "e2acf150fd6345aa8b6a112d53872c5d",
            "9b1279c99b714ecdbc4fd1c7fda292a5",
            "18234140ddd64ce4bd95a2205cffc56e",
            "ae610faf5c71457ca922467c2427c978"
          ]
        },
        "outputId": "bba450b5-6f81-489d-a277-e58cba5a42dd"
      },
      "source": [
        "# y_test remains secret to clfs\n",
        "m2_prediction_text, m2_subpred_text, y_sub_test = m2_lv0_wrap(m2_df_level0_train['text'], \n",
        "                                                                     m2_df_level0_hideout['text'],\n",
        "                                                                     m2_df_level0_train['gender'])\n",
        "\n",
        "m2_prediction_desc, m2_subpred_desc, y_sub_test = m2_lv0_wrap(m2_df_level0_train['description'], \n",
        "                                                                     m2_df_level0_hideout['description'],\n",
        "                                                                     m2_df_level0_train['gender'])"
      ],
      "execution_count": 8,
      "outputs": [
        {
          "output_type": "display_data",
          "data": {
            "application/vnd.jupyter.widget-view+json": {
              "model_id": "4f89b8d2d9f64295bc8d0cf9b5e794e6",
              "version_minor": 0,
              "version_major": 2
            },
            "text/plain": [
              "HBox(children=(IntProgress(value=0, description='Downloading', max=231508, style=ProgressStyle(description_wid…"
            ]
          },
          "metadata": {
            "tags": []
          }
        },
        {
          "output_type": "stream",
          "text": [
            "\n"
          ],
          "name": "stdout"
        },
        {
          "output_type": "display_data",
          "data": {
            "application/vnd.jupyter.widget-view+json": {
              "model_id": "a3c284187ffb4ffcaffabd1fa1632d31",
              "version_minor": 0,
              "version_major": 2
            },
            "text/plain": [
              "HBox(children=(IntProgress(value=0, description='Downloading', max=546, style=ProgressStyle(description_width=…"
            ]
          },
          "metadata": {
            "tags": []
          }
        },
        {
          "output_type": "stream",
          "text": [
            "\n"
          ],
          "name": "stdout"
        },
        {
          "output_type": "display_data",
          "data": {
            "application/vnd.jupyter.widget-view+json": {
              "model_id": "00fa66592e4141e5a1aa2b7709e0a9e4",
              "version_minor": 0,
              "version_major": 2
            },
            "text/plain": [
              "HBox(children=(IntProgress(value=0, description='Downloading', max=267967963, style=ProgressStyle(description_…"
            ]
          },
          "metadata": {
            "tags": []
          }
        },
        {
          "output_type": "stream",
          "text": [
            "\n",
            "logistic accuracy: 0.6026811180832858\n",
            "lasso accuracy: 0.6100969766115231\n",
            "elasticnet accuracy: 0.5855675984027382\n",
            "random_forest accuracy: 0.6018254420992584\n"
          ],
          "name": "stdout"
        },
        {
          "output_type": "stream",
          "text": [
            "/usr/local/lib/python3.6/dist-packages/sklearn/neural_network/_multilayer_perceptron.py:571: ConvergenceWarning: Stochastic Optimizer: Maximum iterations (200) reached and the optimization hasn't converged yet.\n",
            "  % self.max_iter, ConvergenceWarning)\n"
          ],
          "name": "stderr"
        },
        {
          "output_type": "stream",
          "text": [
            "deep_nn accuracy: 0.5827153451226469\n",
            "knn accuracy: 0.5593268682258985\n",
            "logistic accuracy: 0.6631488876212208\n",
            "lasso accuracy: 0.6602966343411295\n",
            "elasticnet accuracy: 0.6329150028522533\n",
            "random_forest accuracy: 0.6505989731888192\n"
          ],
          "name": "stdout"
        },
        {
          "output_type": "stream",
          "text": [
            "/usr/local/lib/python3.6/dist-packages/sklearn/neural_network/_multilayer_perceptron.py:571: ConvergenceWarning: Stochastic Optimizer: Maximum iterations (200) reached and the optimization hasn't converged yet.\n",
            "  % self.max_iter, ConvergenceWarning)\n"
          ],
          "name": "stderr"
        },
        {
          "output_type": "stream",
          "text": [
            "deep_nn accuracy: 0.6320593268682259\n",
            "knn accuracy: 0.5892755276668569\n"
          ],
          "name": "stdout"
        }
      ]
    },
    {
      "cell_type": "code",
      "metadata": {
        "id": "a0aAGALc3eLa",
        "colab_type": "code",
        "colab": {}
      },
      "source": [
        ""
      ],
      "execution_count": 0,
      "outputs": []
    },
    {
      "cell_type": "code",
      "metadata": {
        "id": "Hg1jrfuA3eSg",
        "colab_type": "code",
        "colab": {
          "base_uri": "https://localhost:8080/",
          "height": 122
        },
        "outputId": "c1f91ff7-ce6f-4027-9703-c79722ed1830"
      },
      "source": [
        "# Gathering Train set from inner loop\n",
        "\n",
        "m2_subpred_text = m2_subpred_text.pivot(index= None, columns= 'clf_name', values= 'prob_male')\n",
        "m2_subpred_desc = m2_subpred_desc.pivot(index= None, columns= 'clf_name', values= 'prob_male')\n",
        "\n",
        "y_sub_test.reset_index(drop= True, inplace= True)\n",
        "m2_df_level1_train = pd.concat([m2_subpred_text, m2_subpred_desc, y_sub_test], axis= 1)\n",
        "pd.set_option('display.max_colwidth', -1)\n",
        "m2_df_level1_train.shape\n",
        "\n",
        "# Gathering Valdate set from Hideout\n",
        "\n",
        "m2_df_level0_hideout['gender'].reset_index(drop= True, inplace= True)\n",
        "m2_df_level1_val = pd.concat([m2_prediction_text, m2_prediction_desc, m2_df_level0_hideout['gender']], axis= 1)\n",
        "pd.set_option('display.max_colwidth', -1)\n",
        "m2_df_level1_val.shape"
      ],
      "execution_count": 9,
      "outputs": [
        {
          "output_type": "stream",
          "text": [
            "/usr/local/lib/python3.6/dist-packages/ipykernel_launcher.py:7: FutureWarning: Passing a negative integer is deprecated in version 1.0 and will not be supported in future version. Instead, use None to not limit the column width.\n",
            "  import sys\n",
            "/usr/local/lib/python3.6/dist-packages/ipykernel_launcher.py:14: FutureWarning: Passing a negative integer is deprecated in version 1.0 and will not be supported in future version. Instead, use None to not limit the column width.\n",
            "  \n"
          ],
          "name": "stderr"
        },
        {
          "output_type": "execute_result",
          "data": {
            "text/plain": [
              "(1754, 13)"
            ]
          },
          "metadata": {
            "tags": []
          },
          "execution_count": 9
        }
      ]
    },
    {
      "cell_type": "code",
      "metadata": {
        "id": "8fGF-smr3eXv",
        "colab_type": "code",
        "colab": {}
      },
      "source": [
        "m2_X_train = m2_df_level1_train.loc[:, m2_df_level1_val.columns != 'gender']\n",
        "m2_y_train = m2_df_level1_train['gender']\n",
        "\n",
        "m2_X_val = m2_df_level1_val.loc[:, m2_df_level1_val.columns != 'gender'] \n",
        "m2_y_val = m2_df_level1_val['gender']"
      ],
      "execution_count": 0,
      "outputs": []
    },
    {
      "cell_type": "code",
      "metadata": {
        "id": "k6pUGtbz3ht3",
        "colab_type": "code",
        "colab": {}
      },
      "source": [
        "def m2_simple_lv1(X_train, X_test, y_train, y_test):\n",
        "\n",
        "    estimators=[\n",
        "        ('logistic',LogisticRegression(solver='liblinear',penalty='l2')),\n",
        "        ('lasso',LogisticRegression(solver='liblinear',penalty='l1')),\n",
        "        ('ridge',RidgeClassifier()),\n",
        "        ('elasticnet',SGDClassifier(loss='log', penalty='elasticnet')),\n",
        "        ('random_forest',RandomForestClassifier()),\n",
        "        ('svc',LinearSVC()),\n",
        "        ('deep_nn',MLPClassifier()),\n",
        "        ('knn',KNeighborsClassifier(n_neighbors=3 ,weights='distance',algorithm='auto')),\n",
        "        ('MNB', MultinomialNB(alpha = 1))\n",
        "    ]\n",
        "    \n",
        "    scores=[]\n",
        "    for model in estimators:\n",
        "        pipe=Pipeline(steps=[(model)])\n",
        "        pipe.fit(X_train, y_train)\n",
        "        score = pipe.score(X_test, y_test)\n",
        "        scores.append([score, model])\n",
        "        \n",
        "        \n",
        "    return (scores)"
      ],
      "execution_count": 0,
      "outputs": []
    },
    {
      "cell_type": "code",
      "metadata": {
        "id": "HRqODbJF3jGz",
        "colab_type": "code",
        "colab": {
          "base_uri": "https://localhost:8080/",
          "height": 136
        },
        "outputId": "c725b419-05e1-46bd-80e1-ec41a81c5072"
      },
      "source": [
        "m2_scores = m2_simple_lv1(m2_X_train, m2_X_val, m2_y_train, m2_y_val)\n",
        "max(m2_scores)"
      ],
      "execution_count": 12,
      "outputs": [
        {
          "output_type": "stream",
          "text": [
            "/usr/local/lib/python3.6/dist-packages/sklearn/neural_network/_multilayer_perceptron.py:571: ConvergenceWarning: Stochastic Optimizer: Maximum iterations (200) reached and the optimization hasn't converged yet.\n",
            "  % self.max_iter, ConvergenceWarning)\n"
          ],
          "name": "stderr"
        },
        {
          "output_type": "execute_result",
          "data": {
            "text/plain": [
              "[0.6915621436716077,\n",
              " ('svc', LinearSVC(C=1.0, class_weight=None, dual=True, fit_intercept=True,\n",
              "            intercept_scaling=1, loss='squared_hinge', max_iter=1000,\n",
              "            multi_class='ovr', penalty='l2', random_state=None, tol=0.0001,\n",
              "            verbose=0))]"
            ]
          },
          "metadata": {
            "tags": []
          },
          "execution_count": 12
        }
      ]
    },
    {
      "cell_type": "code",
      "metadata": {
        "id": "eYzvh5dPCsun",
        "colab_type": "code",
        "colab": {}
      },
      "source": [
        "#parameters = {'C': np.linspace(0.0001, 20, 30), 'penalty': ['l1', 'l2']}\n",
        "#grid_search = GridSearchCV(LinearSVC(), parameters)\n",
        "#grid_search.fit(m2_X_train, m2_y_train)\n",
        "\n",
        "#print('best parameters: ', grid_search.best_params_)\n",
        "#print('best scrores: ', grid_search.best_score_)\n",
        "\n",
        "\n",
        "#c= 17.9 penalty l2"
      ],
      "execution_count": 0,
      "outputs": []
    },
    {
      "cell_type": "code",
      "metadata": {
        "id": "SbMkKtY4C6od",
        "colab_type": "code",
        "colab": {
          "base_uri": "https://localhost:8080/",
          "height": 68
        },
        "outputId": "38387868-1c68-4a72-c7de-4f129e8773c8"
      },
      "source": [
        "clf = LinearSVC(C= 17.9, penalty= 'l2')\n",
        "clf.fit(m2_X_train, m2_y_train)\n",
        "clf.score(m2_X_val, m2_y_val)"
      ],
      "execution_count": 33,
      "outputs": [
        {
          "output_type": "stream",
          "text": [
            "/usr/local/lib/python3.6/dist-packages/sklearn/svm/_base.py:947: ConvergenceWarning: Liblinear failed to converge, increase the number of iterations.\n",
            "  \"the number of iterations.\", ConvergenceWarning)\n"
          ],
          "name": "stderr"
        },
        {
          "output_type": "execute_result",
          "data": {
            "text/plain": [
              "0.6904218928164196"
            ]
          },
          "metadata": {
            "tags": []
          },
          "execution_count": 33
        }
      ]
    },
    {
      "cell_type": "code",
      "metadata": {
        "id": "wSeZahvSC6y1",
        "colab_type": "code",
        "colab": {
          "base_uri": "https://localhost:8080/",
          "height": 34
        },
        "cellView": "form",
        "outputId": "979ccc1a-9b34-4b7a-a17c-fd9b58c16311"
      },
      "source": [
        "#@title\n",
        "#try new data\n",
        "\n",
        "link = 'https://drive.google.com/open?id=1x__GAttdEtRo8NjhItfaqATBlqxrcV7w'\n",
        "\n",
        "fluff, id = link.split('=')\n",
        "print (id)\n",
        "downloaded = drive.CreateFile({'id':id}) \n",
        "downloaded.GetContentFile('label_cleaned.csv')  "
      ],
      "execution_count": 17,
      "outputs": [
        {
          "output_type": "stream",
          "text": [
            "1x__GAttdEtRo8NjhItfaqATBlqxrcV7w\n"
          ],
          "name": "stdout"
        }
      ]
    },
    {
      "cell_type": "code",
      "metadata": {
        "id": "nZb540_zFChn",
        "colab_type": "code",
        "colab": {
          "base_uri": "https://localhost:8080/",
          "height": 34
        },
        "cellView": "form",
        "outputId": "c11312ed-8ce9-4429-fe60-739fea8d88ec"
      },
      "source": [
        "#@title\n",
        "df2 = pd.read_csv('label_cleaned.csv')\n",
        "df2.shape"
      ],
      "execution_count": 18,
      "outputs": [
        {
          "output_type": "execute_result",
          "data": {
            "text/plain": [
              "(1336, 15)"
            ]
          },
          "metadata": {
            "tags": []
          },
          "execution_count": 18
        }
      ]
    },
    {
      "cell_type": "code",
      "metadata": {
        "id": "KBW7xyXXFMnI",
        "colab_type": "code",
        "colab": {},
        "cellView": "form"
      },
      "source": [
        "#@title\n",
        "df2 = df2[['text', 'description', 'profile_sidebar_fill_color', 'gender']]\n",
        "df2.rename(columns={'profile_sidebar_fill_color':'sidebar_color'}, inplace=True)\n",
        "#the model's main purpose is detecting gender, so we didn't pick 'location' feature\n",
        "df2.dropna(inplace = True)\n",
        "df2.drop(df2[(df2['gender'] == 'n') | \n",
        "           (df2['gender'] == 'b')].index, inplace = True)\n",
        "\n",
        "df2['text'] = text_cleaner(df2['text']);\n",
        "df2['description'] = text_cleaner(df2['description']);\n",
        "df2 = shuffle(df2)\n",
        "df2.reset_index(drop=True, inplace= True)"
      ],
      "execution_count": 0,
      "outputs": []
    },
    {
      "cell_type": "code",
      "metadata": {
        "id": "8XxXblqgFMxV",
        "colab_type": "code",
        "colab": {},
        "cellView": "form"
      },
      "source": [
        "#@title\n",
        " df2_text_features, df2_desc_features = text_vec_convert2(df2['text'], df2['description'])\n",
        " "
      ],
      "execution_count": 0,
      "outputs": []
    }
  ]
}